{
  "nbformat": 4,
  "nbformat_minor": 0,
  "metadata": {
    "colab": {
      "provenance": [],
      "gpuType": "T4"
    },
    "kernelspec": {
      "name": "python3",
      "display_name": "Python 3"
    },
    "language_info": {
      "name": "python"
    },
    "accelerator": "GPU"
  },
  "cells": [
    {
      "cell_type": "markdown",
      "source": [
        "# Imports"
      ],
      "metadata": {
        "id": "NPxBJ4qdSWlM"
      }
    },
    {
      "cell_type": "code",
      "execution_count": null,
      "metadata": {
        "id": "Dzdv78wHrlVr"
      },
      "outputs": [],
      "source": [
        "import pandas as pd\n",
        "import numpy as np\n",
        "import tensorflow as tf\n",
        "import matplotlib.pyplot as plt\n",
        "import seaborn as sns\n",
        "sns.set_theme()\n",
        "\n",
        "from sklearn.model_selection import train_test_split\n",
        "from sklearn.preprocessing import LabelEncoder\n",
        "\n",
        "from keras.applications import vgg16   #Modèle de référence\n",
        "from keras.models import Model\n",
        "from keras.layers import GlobalAveragePooling2D, Dense, Resizing, Rescaling, RandomFlip, RandomRotation, RandomZoom, Dropout\n",
        "from keras.utils import load_img, img_to_array, to_categorical\n",
        "\n",
        "from sklearn.metrics import log_loss, balanced_accuracy_score, accuracy_score\n",
        "from time import time\n",
        "from glob import glob\n",
        "\n",
        "# Pour DecompressionBomb Warning:\n",
        "from PIL import Image\n",
        "Image.MAX_IMAGE_PIXELS = None\n",
        "\n",
        "import cv2\n",
        "from google.colab.patches import cv2_imshow\n",
        "from sklearn.svm import SVC\n",
        "from sklearn.model_selection import GridSearchCV"
      ]
    },
    {
      "cell_type": "code",
      "source": [
        "'''\n",
        "Pré traitement des images (Notebook précédent)\n",
        "'''\n",
        "def image_prep(data, module) :\n",
        "    prepared_images = []\n",
        "    for i in data['image_name'].index :\n",
        "        img = img_to_array(load_img('/content/drive/MyDrive/Colab Notebooks/Projet 6/Images/'+str(data['image_name'][i]),\n",
        "               target_size=(224, 224)))\n",
        "        img = img.reshape(img.shape[0], img.shape[1], img.shape[2])\n",
        "        prepared_images.append(module.preprocess_input(img))\n",
        "    return np.array(prepared_images)\n",
        "'''\n",
        "Split data + prétraitement en fonction du module\n",
        "'''\n",
        "def split_prep(module):\n",
        "  y = to_categorical(data.label)\n",
        "  X = data.drop(columns=['label'])\n",
        "\n",
        "  Xtr, Xte, ytr, yte = train_test_split(X, y, train_size=0.7)\n",
        "  # preparation des images selon le module\n",
        "  with tf.device('/gpu:0'):\n",
        "    Xtr = image_prep(Xtr, module)\n",
        "    Xte = image_prep(Xte, module)\n",
        "\n",
        "  Xtr, Xval, ytr, yval = train_test_split(Xtr, ytr, train_size=0.8)\n",
        "  return Xtr, Xval, Xte, ytr, yval, yte\n",
        "\n",
        "'''\n",
        "Création modèle VGG16 : modèle de référence\n",
        "'''\n",
        "def create_vgg16() :\n",
        "    # Récupération modèle pré-entraîné\n",
        "    model0 = vgg16.VGG16(include_top=False, weights=\"imagenet\", input_shape=(224, 224, 3))\n",
        "    for layer in model0.layers:\n",
        "      layer.trainable = False\n",
        "    # Récupérer la sortie\n",
        "    x = model0.output\n",
        "    # Compléter le modèle\n",
        "    x = GlobalAveragePooling2D()(x)\n",
        "    x = Dense(378, activation='relu')(x)\n",
        "    x = Dropout(0.5)(x)\n",
        "    predictions = Dense(data.label.nunique(), activation='softmax')(x)\n",
        "    # Définir le nouveau modèle\n",
        "    model = Model(inputs=model0.input, outputs=predictions)\n",
        "    # compilation du modèle\n",
        "    model.compile(loss=\"categorical_crossentropy\", optimizer='adam', metrics=[\"accuracy\"])\n",
        "    return model\n",
        "\n",
        "'''\n",
        "Scores du modèle : evaluate(), balanced_accuracy_score(), overfitting index\n",
        "'''\n",
        "def scores(model, column):\n",
        "\n",
        "  loss_tr, accuracy_tr = model.evaluate(Xtr, ytr, verbose=False)\n",
        "  loss_val, accuracy_val = model.evaluate(Xval, yval, verbose=False)\n",
        "  loss_te, accuracy_te = model.evaluate(Xte, yte, verbose=False)\n",
        "  print(f\"Losses (training/validation/test) : {round(loss_tr, 2)}/{round(loss_val, 2)}/{round(loss_te, 2)}\")\n",
        "\n",
        "  y_pred_list = model.predict(Xte, verbose=0).argmax(axis=1)\n",
        "\n",
        "  comp[column] = [accuracy_tr, accuracy_val, accuracy_te,\n",
        "                  balanced_accuracy_score(yte.argmax(axis=1), y_pred_list),\n",
        "                  accuracy_tr-(np.mean([accuracy_val, accuracy_te]))]\n",
        "\n",
        "  return comp\n",
        "\n",
        "'''\n",
        "Création modèle VGG16 avec data augmentation\n",
        "'''\n",
        "def create_vgg16_2() :\n",
        "    # Même modèle de base\n",
        "    model0 = vgg16.VGG16(include_top=False, weights=\"imagenet\", input_shape=(224, 224, 3))\n",
        "    for layer in model0.layers:\n",
        "      layer.trainable = False\n",
        "    # Layers de data augmentation :\n",
        "    data_augmentation = tf.keras.Sequential([RandomFlip(input_shape=(224, 224, 3)),\n",
        "                                             RandomRotation((-0.1, 0.1)),\n",
        "                                             RandomZoom((-0.1, 0.1))])\n",
        "    # Compléter le modèle\n",
        "    model = tf.keras.Sequential([data_augmentation,\n",
        "                                 model0,\n",
        "                                 GlobalAveragePooling2D(),\n",
        "                                 Dense(378, activation='relu'),\n",
        "                                 Dropout(0.5),\n",
        "                                 Dense(data.label.nunique(), activation='softmax')])\n",
        "    # compilation du modèle\n",
        "    model.compile(loss=\"categorical_crossentropy\", optimizer='adam', metrics=[\"accuracy\"])\n",
        "    return model"
      ],
      "metadata": {
        "id": "qMFZ4UndApCo"
      },
      "execution_count": null,
      "outputs": []
    },
    {
      "cell_type": "code",
      "source": [
        "from google.colab import drive\n",
        "\n",
        "drive.mount('/content/drive')"
      ],
      "metadata": {
        "colab": {
          "base_uri": "https://localhost:8080/"
        },
        "id": "Ty3ZR6KBIUA_",
        "outputId": "f67fa62b-d4e9-4ade-a3d9-2afdfe78dec7"
      },
      "execution_count": null,
      "outputs": [
        {
          "output_type": "stream",
          "name": "stdout",
          "text": [
            "Drive already mounted at /content/drive; to attempt to forcibly remount, call drive.mount(\"/content/drive\", force_remount=True).\n"
          ]
        }
      ]
    },
    {
      "cell_type": "code",
      "source": [
        "sample = pd.read_csv('/content/drive/MyDrive/Colab Notebooks/Projet 6/flipkart_com-ecommerce_sample_1050.csv')\n",
        "print(f\"Dimensions de l'échantillon : {sample.shape}\")\n",
        "\n",
        "data0 = sample.loc[:, ['uniq_id', 'image']]\n",
        "data0.rename(columns={'image' : 'image_name'}, inplace=True)\n",
        "data0['product_category'] = sample['product_category_tree'].str.split('\"', expand=True)[1].str.split(\">>\", expand=True)[2].str.lower()"
      ],
      "metadata": {
        "colab": {
          "base_uri": "https://localhost:8080/"
        },
        "id": "RrDM3ipM0N_0",
        "outputId": "6235ac95-a9f6-491f-f272-57a3718fea51"
      },
      "execution_count": null,
      "outputs": [
        {
          "output_type": "stream",
          "name": "stdout",
          "text": [
            "Dimensions de l'échantillon : (1050, 15)\n"
          ]
        }
      ]
    },
    {
      "cell_type": "code",
      "source": [
        "path = '/content/drive/MyDrive/Colab Notebooks/Projet 6/Images/'\n",
        "\n",
        "data_path = glob(path+'*.jp*')\n",
        "\n",
        "def data_fct(path) :\n",
        "    list_photos = [file for file in path]\n",
        "    print(len(list_photos))\n",
        "    data = pd.DataFrame()\n",
        "    data[\"image_path\"] = list_photos\n",
        "    data[\"image_name\"] = pd.Series(list_photos).str.split('/', expand=True)[7]\n",
        "    data[\"label_name\"] = data.merge(data0, on='image_name', how='left').loc[:, 'product_category']\n",
        "    return data\n",
        "\n",
        "data = data_fct(data_path)\n",
        "\n",
        "le = LabelEncoder()\n",
        "le.fit(data[\"label_name\"])\n",
        "data[\"label\"] = le.transform(data[\"label_name\"])\n",
        "\n",
        "data.head(5)"
      ],
      "metadata": {
        "id": "Owz6nxx8Ij8f",
        "colab": {
          "base_uri": "https://localhost:8080/",
          "height": 224
        },
        "outputId": "79bef6cb-3b2b-429a-c301-3968a2429c73"
      },
      "execution_count": null,
      "outputs": [
        {
          "output_type": "stream",
          "name": "stdout",
          "text": [
            "1050\n"
          ]
        },
        {
          "output_type": "execute_result",
          "data": {
            "text/plain": [
              "                                          image_path  \\\n",
              "0  /content/drive/MyDrive/Colab Notebooks/Projet ...   \n",
              "1  /content/drive/MyDrive/Colab Notebooks/Projet ...   \n",
              "2  /content/drive/MyDrive/Colab Notebooks/Projet ...   \n",
              "3  /content/drive/MyDrive/Colab Notebooks/Projet ...   \n",
              "4  /content/drive/MyDrive/Colab Notebooks/Projet ...   \n",
              "\n",
              "                             image_name             label_name  label  \n",
              "0  0dc4d2767fe8424a3263ab141884f83d.jpg    romex wrist watches    189  \n",
              "1  0d3e1dc0d38be59e9927e47f152e48aa.jpg   prithish coffee mugs    178  \n",
              "2  0bb0f7b7a3075f4b9459121abe2185fa.jpg           table lamps     215  \n",
              "3  0f4f761de4224b004402c1f97e871ba4.jpg           bar glasses      22  \n",
              "4  0d02f4703fde00645704e15bba23e77d.jpg             batteries      26  "
            ],
            "text/html": [
              "\n",
              "\n",
              "  <div id=\"df-4c28f5fb-6dbb-4463-a928-dca154f8312e\">\n",
              "    <div class=\"colab-df-container\">\n",
              "      <div>\n",
              "<style scoped>\n",
              "    .dataframe tbody tr th:only-of-type {\n",
              "        vertical-align: middle;\n",
              "    }\n",
              "\n",
              "    .dataframe tbody tr th {\n",
              "        vertical-align: top;\n",
              "    }\n",
              "\n",
              "    .dataframe thead th {\n",
              "        text-align: right;\n",
              "    }\n",
              "</style>\n",
              "<table border=\"1\" class=\"dataframe\">\n",
              "  <thead>\n",
              "    <tr style=\"text-align: right;\">\n",
              "      <th></th>\n",
              "      <th>image_path</th>\n",
              "      <th>image_name</th>\n",
              "      <th>label_name</th>\n",
              "      <th>label</th>\n",
              "    </tr>\n",
              "  </thead>\n",
              "  <tbody>\n",
              "    <tr>\n",
              "      <th>0</th>\n",
              "      <td>/content/drive/MyDrive/Colab Notebooks/Projet ...</td>\n",
              "      <td>0dc4d2767fe8424a3263ab141884f83d.jpg</td>\n",
              "      <td>romex wrist watches</td>\n",
              "      <td>189</td>\n",
              "    </tr>\n",
              "    <tr>\n",
              "      <th>1</th>\n",
              "      <td>/content/drive/MyDrive/Colab Notebooks/Projet ...</td>\n",
              "      <td>0d3e1dc0d38be59e9927e47f152e48aa.jpg</td>\n",
              "      <td>prithish coffee mugs</td>\n",
              "      <td>178</td>\n",
              "    </tr>\n",
              "    <tr>\n",
              "      <th>2</th>\n",
              "      <td>/content/drive/MyDrive/Colab Notebooks/Projet ...</td>\n",
              "      <td>0bb0f7b7a3075f4b9459121abe2185fa.jpg</td>\n",
              "      <td>table lamps</td>\n",
              "      <td>215</td>\n",
              "    </tr>\n",
              "    <tr>\n",
              "      <th>3</th>\n",
              "      <td>/content/drive/MyDrive/Colab Notebooks/Projet ...</td>\n",
              "      <td>0f4f761de4224b004402c1f97e871ba4.jpg</td>\n",
              "      <td>bar glasses</td>\n",
              "      <td>22</td>\n",
              "    </tr>\n",
              "    <tr>\n",
              "      <th>4</th>\n",
              "      <td>/content/drive/MyDrive/Colab Notebooks/Projet ...</td>\n",
              "      <td>0d02f4703fde00645704e15bba23e77d.jpg</td>\n",
              "      <td>batteries</td>\n",
              "      <td>26</td>\n",
              "    </tr>\n",
              "  </tbody>\n",
              "</table>\n",
              "</div>\n",
              "      <button class=\"colab-df-convert\" onclick=\"convertToInteractive('df-4c28f5fb-6dbb-4463-a928-dca154f8312e')\"\n",
              "              title=\"Convert this dataframe to an interactive table.\"\n",
              "              style=\"display:none;\">\n",
              "\n",
              "  <svg xmlns=\"http://www.w3.org/2000/svg\" height=\"24px\"viewBox=\"0 0 24 24\"\n",
              "       width=\"24px\">\n",
              "    <path d=\"M0 0h24v24H0V0z\" fill=\"none\"/>\n",
              "    <path d=\"M18.56 5.44l.94 2.06.94-2.06 2.06-.94-2.06-.94-.94-2.06-.94 2.06-2.06.94zm-11 1L8.5 8.5l.94-2.06 2.06-.94-2.06-.94L8.5 2.5l-.94 2.06-2.06.94zm10 10l.94 2.06.94-2.06 2.06-.94-2.06-.94-.94-2.06-.94 2.06-2.06.94z\"/><path d=\"M17.41 7.96l-1.37-1.37c-.4-.4-.92-.59-1.43-.59-.52 0-1.04.2-1.43.59L10.3 9.45l-7.72 7.72c-.78.78-.78 2.05 0 2.83L4 21.41c.39.39.9.59 1.41.59.51 0 1.02-.2 1.41-.59l7.78-7.78 2.81-2.81c.8-.78.8-2.07 0-2.86zM5.41 20L4 18.59l7.72-7.72 1.47 1.35L5.41 20z\"/>\n",
              "  </svg>\n",
              "      </button>\n",
              "\n",
              "\n",
              "\n",
              "    <div id=\"df-6f126c8a-9353-42e1-824f-7ff1ca63ea68\">\n",
              "      <button class=\"colab-df-quickchart\" onclick=\"quickchart('df-6f126c8a-9353-42e1-824f-7ff1ca63ea68')\"\n",
              "              title=\"Suggest charts.\"\n",
              "              style=\"display:none;\">\n",
              "\n",
              "<svg xmlns=\"http://www.w3.org/2000/svg\" height=\"24px\"viewBox=\"0 0 24 24\"\n",
              "     width=\"24px\">\n",
              "    <g>\n",
              "        <path d=\"M19 3H5c-1.1 0-2 .9-2 2v14c0 1.1.9 2 2 2h14c1.1 0 2-.9 2-2V5c0-1.1-.9-2-2-2zM9 17H7v-7h2v7zm4 0h-2V7h2v10zm4 0h-2v-4h2v4z\"/>\n",
              "    </g>\n",
              "</svg>\n",
              "      </button>\n",
              "    </div>\n",
              "\n",
              "<style>\n",
              "  .colab-df-quickchart {\n",
              "    background-color: #E8F0FE;\n",
              "    border: none;\n",
              "    border-radius: 50%;\n",
              "    cursor: pointer;\n",
              "    display: none;\n",
              "    fill: #1967D2;\n",
              "    height: 32px;\n",
              "    padding: 0 0 0 0;\n",
              "    width: 32px;\n",
              "  }\n",
              "\n",
              "  .colab-df-quickchart:hover {\n",
              "    background-color: #E2EBFA;\n",
              "    box-shadow: 0px 1px 2px rgba(60, 64, 67, 0.3), 0px 1px 3px 1px rgba(60, 64, 67, 0.15);\n",
              "    fill: #174EA6;\n",
              "  }\n",
              "\n",
              "  [theme=dark] .colab-df-quickchart {\n",
              "    background-color: #3B4455;\n",
              "    fill: #D2E3FC;\n",
              "  }\n",
              "\n",
              "  [theme=dark] .colab-df-quickchart:hover {\n",
              "    background-color: #434B5C;\n",
              "    box-shadow: 0px 1px 3px 1px rgba(0, 0, 0, 0.15);\n",
              "    filter: drop-shadow(0px 1px 2px rgba(0, 0, 0, 0.3));\n",
              "    fill: #FFFFFF;\n",
              "  }\n",
              "</style>\n",
              "\n",
              "    <script>\n",
              "      async function quickchart(key) {\n",
              "        const containerElement = document.querySelector('#' + key);\n",
              "        const charts = await google.colab.kernel.invokeFunction(\n",
              "            'suggestCharts', [key], {});\n",
              "      }\n",
              "    </script>\n",
              "\n",
              "      <script>\n",
              "\n",
              "function displayQuickchartButton(domScope) {\n",
              "  let quickchartButtonEl =\n",
              "    domScope.querySelector('#df-6f126c8a-9353-42e1-824f-7ff1ca63ea68 button.colab-df-quickchart');\n",
              "  quickchartButtonEl.style.display =\n",
              "    google.colab.kernel.accessAllowed ? 'block' : 'none';\n",
              "}\n",
              "\n",
              "        displayQuickchartButton(document);\n",
              "      </script>\n",
              "      <style>\n",
              "    .colab-df-container {\n",
              "      display:flex;\n",
              "      flex-wrap:wrap;\n",
              "      gap: 12px;\n",
              "    }\n",
              "\n",
              "    .colab-df-convert {\n",
              "      background-color: #E8F0FE;\n",
              "      border: none;\n",
              "      border-radius: 50%;\n",
              "      cursor: pointer;\n",
              "      display: none;\n",
              "      fill: #1967D2;\n",
              "      height: 32px;\n",
              "      padding: 0 0 0 0;\n",
              "      width: 32px;\n",
              "    }\n",
              "\n",
              "    .colab-df-convert:hover {\n",
              "      background-color: #E2EBFA;\n",
              "      box-shadow: 0px 1px 2px rgba(60, 64, 67, 0.3), 0px 1px 3px 1px rgba(60, 64, 67, 0.15);\n",
              "      fill: #174EA6;\n",
              "    }\n",
              "\n",
              "    [theme=dark] .colab-df-convert {\n",
              "      background-color: #3B4455;\n",
              "      fill: #D2E3FC;\n",
              "    }\n",
              "\n",
              "    [theme=dark] .colab-df-convert:hover {\n",
              "      background-color: #434B5C;\n",
              "      box-shadow: 0px 1px 3px 1px rgba(0, 0, 0, 0.15);\n",
              "      filter: drop-shadow(0px 1px 2px rgba(0, 0, 0, 0.3));\n",
              "      fill: #FFFFFF;\n",
              "    }\n",
              "  </style>\n",
              "\n",
              "      <script>\n",
              "        const buttonEl =\n",
              "          document.querySelector('#df-4c28f5fb-6dbb-4463-a928-dca154f8312e button.colab-df-convert');\n",
              "        buttonEl.style.display =\n",
              "          google.colab.kernel.accessAllowed ? 'block' : 'none';\n",
              "\n",
              "        async function convertToInteractive(key) {\n",
              "          const element = document.querySelector('#df-4c28f5fb-6dbb-4463-a928-dca154f8312e');\n",
              "          const dataTable =\n",
              "            await google.colab.kernel.invokeFunction('convertToInteractive',\n",
              "                                                     [key], {});\n",
              "          if (!dataTable) return;\n",
              "\n",
              "          const docLinkHtml = 'Like what you see? Visit the ' +\n",
              "            '<a target=\"_blank\" href=https://colab.research.google.com/notebooks/data_table.ipynb>data table notebook</a>'\n",
              "            + ' to learn more about interactive tables.';\n",
              "          element.innerHTML = '';\n",
              "          dataTable['output_type'] = 'display_data';\n",
              "          await google.colab.output.renderOutput(dataTable, element);\n",
              "          const docLink = document.createElement('div');\n",
              "          docLink.innerHTML = docLinkHtml;\n",
              "          element.appendChild(docLink);\n",
              "        }\n",
              "      </script>\n",
              "    </div>\n",
              "  </div>\n"
            ]
          },
          "metadata": {},
          "execution_count": 210
        }
      ]
    },
    {
      "cell_type": "markdown",
      "source": [
        "# Prétraitement"
      ],
      "metadata": {
        "id": "nvedWyvTSbf-"
      }
    },
    {
      "cell_type": "code",
      "source": [
        "print(data.isna().sum())"
      ],
      "metadata": {
        "colab": {
          "base_uri": "https://localhost:8080/"
        },
        "id": "tCL0400DJwMW",
        "outputId": "af9ef5e5-7c2f-485a-f5a8-a50e894d048e"
      },
      "execution_count": null,
      "outputs": [
        {
          "output_type": "stream",
          "name": "stdout",
          "text": [
            "image_path    0\n",
            "image_name    0\n",
            "label_name    3\n",
            "label         0\n",
            "dtype: int64\n"
          ]
        }
      ]
    },
    {
      "cell_type": "code",
      "source": [
        "data = data.loc[~data['label_name'].isna()]\n",
        "print(f\"Nouvelles dimensions : {data.shape}\\nNombre de valeurs manquantes : {data.isna().sum().sum()}\")"
      ],
      "metadata": {
        "colab": {
          "base_uri": "https://localhost:8080/"
        },
        "id": "zy9Jck9F1E8D",
        "outputId": "92ab057c-98d6-489c-910b-e43e728ca935"
      },
      "execution_count": null,
      "outputs": [
        {
          "output_type": "stream",
          "name": "stdout",
          "text": [
            "Nouvelles dimensions : (1047, 4)\n",
            "Nombre de valeurs manquantes : 0\n"
          ]
        }
      ]
    },
    {
      "cell_type": "markdown",
      "source": [
        "1. Split + preprocess_input"
      ],
      "metadata": {
        "id": "33022RxdSfck"
      }
    },
    {
      "cell_type": "code",
      "source": [
        "Xtr, Xval, Xte, ytr, yval, yte = split_prep(vgg16)\n",
        "\n",
        "print(f\"Training data shape : {Xtr.shape}\\nTesting data shape : {Xte.shape}\\nValidation data shape : {Xval.shape}\")\n",
        "print()\n",
        "print(f\"Training target shape : {ytr.shape}\\nTesting target shape : {yte.shape}\\nValidation target shape : {yval.shape}\")"
      ],
      "metadata": {
        "id": "BzNceh0QIRmT",
        "colab": {
          "base_uri": "https://localhost:8080/"
        },
        "outputId": "d55b6e59-c70e-427b-903f-8e34ec14ca96"
      },
      "execution_count": null,
      "outputs": [
        {
          "output_type": "stream",
          "name": "stdout",
          "text": [
            "Training data shape : (585, 224, 224, 3)\n",
            "Testing data shape : (315, 224, 224, 3)\n",
            "Validation data shape : (147, 224, 224, 3)\n",
            "\n",
            "Training target shape : (585, 244)\n",
            "Testing target shape : (315, 244)\n",
            "Validation target shape : (147, 244)\n"
          ]
        }
      ]
    },
    {
      "cell_type": "markdown",
      "source": [
        "shape X = (Nombre d'images, Taille des images)\n",
        "\n",
        "shape y = (Nombre d'images, nombre de catégories présentes)\n"
      ],
      "metadata": {
        "id": "3xaJKvqULNEK"
      }
    },
    {
      "cell_type": "markdown",
      "source": [
        "# Premier modèle : modèle de référence"
      ],
      "metadata": {
        "id": "VXOeHUYOSlnd"
      }
    },
    {
      "cell_type": "markdown",
      "source": [
        "Vu dans le notebook précédent."
      ],
      "metadata": {
        "id": "vzm6TScFzLIQ"
      }
    },
    {
      "cell_type": "code",
      "source": [
        "# création et entraînement du modèle de référence\n",
        "model_vgg16 = create_vgg16()\n",
        "with tf.device('/gpu:0'):\n",
        "  history = model_vgg16.fit(Xtr, ytr, epochs=20,\n",
        "                            validation_data=(Xval, yval))"
      ],
      "metadata": {
        "id": "76pfErhZH1-y",
        "colab": {
          "base_uri": "https://localhost:8080/"
        },
        "outputId": "83db322e-4acd-4fad-ec31-b8e9f6f8d199"
      },
      "execution_count": null,
      "outputs": [
        {
          "output_type": "stream",
          "name": "stdout",
          "text": [
            "19/19 [==============================] - 3s 161ms/step - loss: 0.2167 - accuracy: 0.9607 - val_loss: 3.9521 - val_accuracy: 0.5578\n",
            "Epoch 15/20\n",
            "19/19 [==============================] - 3s 159ms/step - loss: 0.1901 - accuracy: 0.9641 - val_loss: 4.1097 - val_accuracy: 0.5374\n",
            "Epoch 16/20\n",
            "19/19 [==============================] - 3s 155ms/step - loss: 0.1769 - accuracy: 0.9487 - val_loss: 4.1542 - val_accuracy: 0.5578\n",
            "Epoch 17/20\n",
            "19/19 [==============================] - 3s 155ms/step - loss: 0.1497 - accuracy: 0.9607 - val_loss: 4.2303 - val_accuracy: 0.5646\n",
            "Epoch 18/20\n",
            "19/19 [==============================] - 3s 160ms/step - loss: 0.1311 - accuracy: 0.9658 - val_loss: 4.2835 - val_accuracy: 0.5442\n",
            "Epoch 19/20\n",
            "19/19 [==============================] - 3s 155ms/step - loss: 0.0963 - accuracy: 0.9829 - val_loss: 4.3187 - val_accuracy: 0.5714\n",
            "Epoch 20/20\n",
            "19/19 [==============================] - 3s 154ms/step - loss: 0.0519 - accuracy: 0.9932 - val_loss: 4.3273 - val_accuracy: 0.5442\n"
          ]
        }
      ]
    },
    {
      "cell_type": "markdown",
      "source": [
        "+ Pour des raisons de durée d'exécution toutes les couches sont non entraînables : on garde les poids d'ImageNet.\n",
        "\n",
        "+ Pour des raisons d'overfitting : une couche Dropout a été ajoutée et le nombre d'epochs minimisé ( passage de 50 à 20)"
      ],
      "metadata": {
        "id": "LP7bGy2-Nx8v"
      }
    },
    {
      "cell_type": "code",
      "source": [
        "fig, axs = plt.subplots(1, 2, figsize=(15, 5))\n",
        "\n",
        "sns.lineplot(history.history['loss'], label='Training loss', ax=axs[0])\n",
        "sns.lineplot(history.history['val_loss'], label='Validation loss', ax=axs[0])\n",
        "\n",
        "sns.lineplot(history.history['accuracy'], label='Training accuracy', ax=axs[1])\n",
        "sns.lineplot(history.history['val_accuracy'], label='Validation accuracy', ax=axs[1])\n",
        "\n",
        "plt.legend()\n",
        "plt.show()"
      ],
      "metadata": {
        "colab": {
          "base_uri": "https://localhost:8080/",
          "height": 450
        },
        "id": "W1Waz6lnwnid",
        "outputId": "6929aeb4-3d8c-45ee-a333-55610298a5bc"
      },
      "execution_count": null,
      "outputs": [
        {
          "output_type": "display_data",
          "data": {
            "text/plain": [
              "<Figure size 1500x500 with 2 Axes>"
            ],
            "image/png": "[encoded data removed]"
          },
          "metadata": {}
        }
      ]
    },
    {
      "cell_type": "markdown",
      "source": [
        "Même avec le Dropout à 0.5 (moitié des poids mis à zéro) et moins d'epochs, la différence entre la validation accuracy et la training accuracy reste grande : overfitting."
      ],
      "metadata": {
        "id": "JQguHyYROoc4"
      }
    },
    {
      "cell_type": "code",
      "source": [
        "comp = pd.DataFrame(index=['Training accuracy', 'Validation accuray', 'Testing accuracy',\n",
        "                           'Balanced accuracy', 'Overfitting index'])\n",
        "\n",
        "scores(model_vgg16, 'Baseline')"
      ],
      "metadata": {
        "id": "6JTJ_DycXWyG",
        "colab": {
          "base_uri": "https://localhost:8080/",
          "height": 258
        },
        "outputId": "1aab48d9-1367-4321-88fb-66a91eb98235"
      },
      "execution_count": null,
      "outputs": [
        {
          "output_type": "stream",
          "name": "stdout",
          "text": [
            "Losses (training/validation/test) : 0.0/4.33/4.97\n"
          ]
        },
        {
          "output_type": "stream",
          "name": "stderr",
          "text": [
            "/usr/local/lib/python3.10/dist-packages/sklearn/metrics/_classification.py:2184: UserWarning: y_pred contains classes not in y_true\n",
            "  warnings.warn(\"y_pred contains classes not in y_true\")\n"
          ]
        },
        {
          "output_type": "execute_result",
          "data": {
            "text/plain": [
              "                    Baseline\n",
              "Training accuracy   1.000000\n",
              "Validation accuray  0.544218\n",
              "Testing accuracy    0.453968\n",
              "Balanced accuracy   0.202194\n",
              "Overfitting index   0.500907"
            ],
            "text/html": [
              "\n",
              "\n",
              "  <div id=\"df-57e8dd98-2270-4467-ae95-46aba0747e28\">\n",
              "    <div class=\"colab-df-container\">\n",
              "      <div>\n",
              "<style scoped>\n",
              "    .dataframe tbody tr th:only-of-type {\n",
              "        vertical-align: middle;\n",
              "    }\n",
              "\n",
              "    .dataframe tbody tr th {\n",
              "        vertical-align: top;\n",
              "    }\n",
              "\n",
              "    .dataframe thead th {\n",
              "        text-align: right;\n",
              "    }\n",
              "</style>\n",
              "<table border=\"1\" class=\"dataframe\">\n",
              "  <thead>\n",
              "    <tr style=\"text-align: right;\">\n",
              "      <th></th>\n",
              "      <th>Baseline</th>\n",
              "    </tr>\n",
              "  </thead>\n",
              "  <tbody>\n",
              "    <tr>\n",
              "      <th>Training accuracy</th>\n",
              "      <td>1.000000</td>\n",
              "    </tr>\n",
              "    <tr>\n",
              "      <th>Validation accuray</th>\n",
              "      <td>0.544218</td>\n",
              "    </tr>\n",
              "    <tr>\n",
              "      <th>Testing accuracy</th>\n",
              "      <td>0.453968</td>\n",
              "    </tr>\n",
              "    <tr>\n",
              "      <th>Balanced accuracy</th>\n",
              "      <td>0.202194</td>\n",
              "    </tr>\n",
              "    <tr>\n",
              "      <th>Overfitting index</th>\n",
              "      <td>0.500907</td>\n",
              "    </tr>\n",
              "  </tbody>\n",
              "</table>\n",
              "</div>\n",
              "      <button class=\"colab-df-convert\" onclick=\"convertToInteractive('df-57e8dd98-2270-4467-ae95-46aba0747e28')\"\n",
              "              title=\"Convert this dataframe to an interactive table.\"\n",
              "              style=\"display:none;\">\n",
              "\n",
              "  <svg xmlns=\"http://www.w3.org/2000/svg\" height=\"24px\"viewBox=\"0 0 24 24\"\n",
              "       width=\"24px\">\n",
              "    <path d=\"M0 0h24v24H0V0z\" fill=\"none\"/>\n",
              "    <path d=\"M18.56 5.44l.94 2.06.94-2.06 2.06-.94-2.06-.94-.94-2.06-.94 2.06-2.06.94zm-11 1L8.5 8.5l.94-2.06 2.06-.94-2.06-.94L8.5 2.5l-.94 2.06-2.06.94zm10 10l.94 2.06.94-2.06 2.06-.94-2.06-.94-.94-2.06-.94 2.06-2.06.94z\"/><path d=\"M17.41 7.96l-1.37-1.37c-.4-.4-.92-.59-1.43-.59-.52 0-1.04.2-1.43.59L10.3 9.45l-7.72 7.72c-.78.78-.78 2.05 0 2.83L4 21.41c.39.39.9.59 1.41.59.51 0 1.02-.2 1.41-.59l7.78-7.78 2.81-2.81c.8-.78.8-2.07 0-2.86zM5.41 20L4 18.59l7.72-7.72 1.47 1.35L5.41 20z\"/>\n",
              "  </svg>\n",
              "      </button>\n",
              "\n",
              "\n",
              "\n",
              "    <div id=\"df-d5f230cd-25a7-4cd3-867a-22d2ec6b4db4\">\n",
              "      <button class=\"colab-df-quickchart\" onclick=\"quickchart('df-d5f230cd-25a7-4cd3-867a-22d2ec6b4db4')\"\n",
              "              title=\"Suggest charts.\"\n",
              "              style=\"display:none;\">\n",
              "\n",
              "<svg xmlns=\"http://www.w3.org/2000/svg\" height=\"24px\"viewBox=\"0 0 24 24\"\n",
              "     width=\"24px\">\n",
              "    <g>\n",
              "        <path d=\"M19 3H5c-1.1 0-2 .9-2 2v14c0 1.1.9 2 2 2h14c1.1 0 2-.9 2-2V5c0-1.1-.9-2-2-2zM9 17H7v-7h2v7zm4 0h-2V7h2v10zm4 0h-2v-4h2v4z\"/>\n",
              "    </g>\n",
              "</svg>\n",
              "      </button>\n",
              "    </div>\n",
              "\n",
              "<style>\n",
              "  .colab-df-quickchart {\n",
              "    background-color: #E8F0FE;\n",
              "    border: none;\n",
              "    border-radius: 50%;\n",
              "    cursor: pointer;\n",
              "    display: none;\n",
              "    fill: #1967D2;\n",
              "    height: 32px;\n",
              "    padding: 0 0 0 0;\n",
              "    width: 32px;\n",
              "  }\n",
              "\n",
              "  .colab-df-quickchart:hover {\n",
              "    background-color: #E2EBFA;\n",
              "    box-shadow: 0px 1px 2px rgba(60, 64, 67, 0.3), 0px 1px 3px 1px rgba(60, 64, 67, 0.15);\n",
              "    fill: #174EA6;\n",
              "  }\n",
              "\n",
              "  [theme=dark] .colab-df-quickchart {\n",
              "    background-color: #3B4455;\n",
              "    fill: #D2E3FC;\n",
              "  }\n",
              "\n",
              "  [theme=dark] .colab-df-quickchart:hover {\n",
              "    background-color: #434B5C;\n",
              "    box-shadow: 0px 1px 3px 1px rgba(0, 0, 0, 0.15);\n",
              "    filter: drop-shadow(0px 1px 2px rgba(0, 0, 0, 0.3));\n",
              "    fill: #FFFFFF;\n",
              "  }\n",
              "</style>\n",
              "\n",
              "    <script>\n",
              "      async function quickchart(key) {\n",
              "        const containerElement = document.querySelector('#' + key);\n",
              "        const charts = await google.colab.kernel.invokeFunction(\n",
              "            'suggestCharts', [key], {});\n",
              "      }\n",
              "    </script>\n",
              "\n",
              "      <script>\n",
              "\n",
              "function displayQuickchartButton(domScope) {\n",
              "  let quickchartButtonEl =\n",
              "    domScope.querySelector('#df-d5f230cd-25a7-4cd3-867a-22d2ec6b4db4 button.colab-df-quickchart');\n",
              "  quickchartButtonEl.style.display =\n",
              "    google.colab.kernel.accessAllowed ? 'block' : 'none';\n",
              "}\n",
              "\n",
              "        displayQuickchartButton(document);\n",
              "      </script>\n",
              "      <style>\n",
              "    .colab-df-container {\n",
              "      display:flex;\n",
              "      flex-wrap:wrap;\n",
              "      gap: 12px;\n",
              "    }\n",
              "\n",
              "    .colab-df-convert {\n",
              "      background-color: #E8F0FE;\n",
              "      border: none;\n",
              "      border-radius: 50%;\n",
              "      cursor: pointer;\n",
              "      display: none;\n",
              "      fill: #1967D2;\n",
              "      height: 32px;\n",
              "      padding: 0 0 0 0;\n",
              "      width: 32px;\n",
              "    }\n",
              "\n",
              "    .colab-df-convert:hover {\n",
              "      background-color: #E2EBFA;\n",
              "      box-shadow: 0px 1px 2px rgba(60, 64, 67, 0.3), 0px 1px 3px 1px rgba(60, 64, 67, 0.15);\n",
              "      fill: #174EA6;\n",
              "    }\n",
              "\n",
              "    [theme=dark] .colab-df-convert {\n",
              "      background-color: #3B4455;\n",
              "      fill: #D2E3FC;\n",
              "    }\n",
              "\n",
              "    [theme=dark] .colab-df-convert:hover {\n",
              "      background-color: #434B5C;\n",
              "      box-shadow: 0px 1px 3px 1px rgba(0, 0, 0, 0.15);\n",
              "      filter: drop-shadow(0px 1px 2px rgba(0, 0, 0, 0.3));\n",
              "      fill: #FFFFFF;\n",
              "    }\n",
              "  </style>\n",
              "\n",
              "      <script>\n",
              "        const buttonEl =\n",
              "          document.querySelector('#df-57e8dd98-2270-4467-ae95-46aba0747e28 button.colab-df-convert');\n",
              "        buttonEl.style.display =\n",
              "          google.colab.kernel.accessAllowed ? 'block' : 'none';\n",
              "\n",
              "        async function convertToInteractive(key) {\n",
              "          const element = document.querySelector('#df-57e8dd98-2270-4467-ae95-46aba0747e28');\n",
              "          const dataTable =\n",
              "            await google.colab.kernel.invokeFunction('convertToInteractive',\n",
              "                                                     [key], {});\n",
              "          if (!dataTable) return;\n",
              "\n",
              "          const docLinkHtml = 'Like what you see? Visit the ' +\n",
              "            '<a target=\"_blank\" href=https://colab.research.google.com/notebooks/data_table.ipynb>data table notebook</a>'\n",
              "            + ' to learn more about interactive tables.';\n",
              "          element.innerHTML = '';\n",
              "          dataTable['output_type'] = 'display_data';\n",
              "          await google.colab.output.renderOutput(dataTable, element);\n",
              "          const docLink = document.createElement('div');\n",
              "          docLink.innerHTML = docLinkHtml;\n",
              "          element.appendChild(docLink);\n",
              "        }\n",
              "      </script>\n",
              "    </div>\n",
              "  </div>\n"
            ]
          },
          "metadata": {},
          "execution_count": 174
        }
      ]
    },
    {
      "cell_type": "markdown",
      "source": [
        "Résultats moyens mais meilleures que les prédictions faites dans le notebook précédent via le score ARI.\n",
        "\n",
        "Les produits appartenant à des catégories peu représentées sont rarement détectés : balanced_accuracy_score faible.\n",
        "\n",
        "Il y a un overfitting du modèle (index = 0.5), on va donc essayer un modèle avec data augmentation pour agrandir notre jeu de données."
      ],
      "metadata": {
        "id": "Wjhd1hGnVngl"
      }
    },
    {
      "cell_type": "markdown",
      "source": [
        "# Modèle avec data augmentation"
      ],
      "metadata": {
        "id": "cHNVloJIWJdA"
      }
    },
    {
      "cell_type": "markdown",
      "source": [
        "Couches de data augmentation : RandomFlip, RandomRotation, RandomZoom.\n",
        "\n",
        "Le nombre d'epochs a, ici aussi, été réduit de 50 à 20."
      ],
      "metadata": {
        "id": "3a6rw-ADPmlb"
      }
    },
    {
      "cell_type": "code",
      "source": [
        "# Création du modèle\n",
        "with tf.device('/gpu:0'):\n",
        "    vgg16_2 = create_vgg16_2()\n",
        "    history = vgg16_2.fit(Xtr, ytr, epochs=20,\n",
        "                          validation_data=(Xval, yval))"
      ],
      "metadata": {
        "id": "R5sTPRybk-O_",
        "colab": {
          "base_uri": "https://localhost:8080/"
        },
        "outputId": "806b1f1a-5ae3-4664-caac-268501cf1394"
      },
      "execution_count": null,
      "outputs": [
        {
          "output_type": "stream",
          "name": "stdout",
          "text": [
            "19/19 [==============================] - 3s 169ms/step - loss: 1.2422 - accuracy: 0.6444 - val_loss: 5.0627 - val_accuracy: 0.4354\n",
            "Epoch 11/20\n",
            "19/19 [==============================] - 3s 162ms/step - loss: 1.0584 - accuracy: 0.7145 - val_loss: 5.3178 - val_accuracy: 0.4354\n",
            "Epoch 12/20\n",
            "19/19 [==============================] - 3s 164ms/step - loss: 1.0284 - accuracy: 0.7060 - val_loss: 5.3833 - val_accuracy: 0.4422\n",
            "Epoch 13/20\n",
            "19/19 [==============================] - 3s 162ms/step - loss: 0.9373 - accuracy: 0.7538 - val_loss: 5.4281 - val_accuracy: 0.4694\n",
            "Epoch 14/20\n",
            "19/19 [==============================] - 3s 166ms/step - loss: 0.9141 - accuracy: 0.7692 - val_loss: 5.5066 - val_accuracy: 0.4830\n",
            "Epoch 15/20\n",
            "19/19 [==============================] - 3s 161ms/step - loss: 0.6648 - accuracy: 0.8137 - val_loss: 5.6794 - val_accuracy: 0.4422\n",
            "Epoch 16/20\n",
            "19/19 [==============================] - 3s 161ms/step - loss: 0.6610 - accuracy: 0.8188 - val_loss: 6.1412 - val_accuracy: 0.4694\n",
            "Epoch 17/20\n",
            "19/19 [==============================] - 3s 162ms/step - loss: 0.5825 - accuracy: 0.8274 - val_loss: 5.9659 - val_accuracy: 0.4762\n",
            "Epoch 18/20\n",
            "19/19 [==============================] - 3s 162ms/step - loss: 0.4940 - accuracy: 0.8479 - val_loss: 6.1124 - val_accuracy: 0.4898\n",
            "Epoch 19/20\n",
            "19/19 [==============================] - 3s 164ms/step - loss: 0.4543 - accuracy: 0.8530 - val_loss: 6.0206 - val_accuracy: 0.4966\n",
            "Epoch 20/20\n",
            "19/19 [==============================] - 3s 161ms/step - loss: 0.4722 - accuracy: 0.8684 - val_loss: 6.0602 - val_accuracy: 0.4898\n"
          ]
        }
      ]
    },
    {
      "cell_type": "code",
      "source": [
        "fig, axs = plt.subplots(1, 2, figsize=(15, 5))\n",
        "\n",
        "sns.lineplot(history.history['loss'], label='Training loss', ax=axs[0])\n",
        "sns.lineplot(history.history['val_loss'], label='Validation loss', ax=axs[0])\n",
        "\n",
        "sns.lineplot(history.history['accuracy'], label='accuracy', ax=axs[1])\n",
        "sns.lineplot(history.history['val_accuracy'], label='Validation accuracy', ax=axs[1])\n",
        "\n",
        "plt.legend()\n",
        "plt.show()"
      ],
      "metadata": {
        "colab": {
          "base_uri": "https://localhost:8080/",
          "height": 452
        },
        "id": "n966ZArsxsfJ",
        "outputId": "5d3a63a0-7c59-4429-8fe7-b070886bc9f7"
      },
      "execution_count": null,
      "outputs": [
        {
          "output_type": "display_data",
          "data": {
            "text/plain": [
              "<Figure size 1500x500 with 2 Axes>"
            ],
            "image/png": "[encoded data removed]"
          },
          "metadata": {}
        }
      ]
    },
    {
      "cell_type": "markdown",
      "source": [
        "Les pertes au niveau des données de validation augmente avec le nombre d'epochs.\n",
        "\n",
        "L'écart des performances entre les données d'entraînement et de validation est toujours important."
      ],
      "metadata": {
        "id": "YgjdbDe0QRFO"
      }
    },
    {
      "cell_type": "code",
      "source": [
        "scores(vgg16_2, 'Baseline + data aug')"
      ],
      "metadata": {
        "id": "ZHbPx-OKmEM_",
        "colab": {
          "base_uri": "https://localhost:8080/",
          "height": 258
        },
        "outputId": "02ba363b-5e7b-40bb-f41c-8ddc3934f7ea"
      },
      "execution_count": null,
      "outputs": [
        {
          "output_type": "stream",
          "name": "stdout",
          "text": [
            "Losses (training/validation/test) : 0.16/6.06/6.67\n"
          ]
        },
        {
          "output_type": "stream",
          "name": "stderr",
          "text": [
            "/usr/local/lib/python3.10/dist-packages/sklearn/metrics/_classification.py:2184: UserWarning: y_pred contains classes not in y_true\n",
            "  warnings.warn(\"y_pred contains classes not in y_true\")\n"
          ]
        },
        {
          "output_type": "execute_result",
          "data": {
            "text/plain": [
              "                    Baseline  Baseline + data aug\n",
              "Training accuracy   1.000000             0.953846\n",
              "Validation accuray  0.544218             0.489796\n",
              "Testing accuracy    0.453968             0.457143\n",
              "Balanced accuracy   0.202194             0.206221\n",
              "Overfitting index   0.500907             0.480377"
            ],
            "text/html": [
              "\n",
              "\n",
              "  <div id=\"df-3615bc20-ac75-46e5-9f02-8c44dadbbc9c\">\n",
              "    <div class=\"colab-df-container\">\n",
              "      <div>\n",
              "<style scoped>\n",
              "    .dataframe tbody tr th:only-of-type {\n",
              "        vertical-align: middle;\n",
              "    }\n",
              "\n",
              "    .dataframe tbody tr th {\n",
              "        vertical-align: top;\n",
              "    }\n",
              "\n",
              "    .dataframe thead th {\n",
              "        text-align: right;\n",
              "    }\n",
              "</style>\n",
              "<table border=\"1\" class=\"dataframe\">\n",
              "  <thead>\n",
              "    <tr style=\"text-align: right;\">\n",
              "      <th></th>\n",
              "      <th>Baseline</th>\n",
              "      <th>Baseline + data aug</th>\n",
              "    </tr>\n",
              "  </thead>\n",
              "  <tbody>\n",
              "    <tr>\n",
              "      <th>Training accuracy</th>\n",
              "      <td>1.000000</td>\n",
              "      <td>0.953846</td>\n",
              "    </tr>\n",
              "    <tr>\n",
              "      <th>Validation accuray</th>\n",
              "      <td>0.544218</td>\n",
              "      <td>0.489796</td>\n",
              "    </tr>\n",
              "    <tr>\n",
              "      <th>Testing accuracy</th>\n",
              "      <td>0.453968</td>\n",
              "      <td>0.457143</td>\n",
              "    </tr>\n",
              "    <tr>\n",
              "      <th>Balanced accuracy</th>\n",
              "      <td>0.202194</td>\n",
              "      <td>0.206221</td>\n",
              "    </tr>\n",
              "    <tr>\n",
              "      <th>Overfitting index</th>\n",
              "      <td>0.500907</td>\n",
              "      <td>0.480377</td>\n",
              "    </tr>\n",
              "  </tbody>\n",
              "</table>\n",
              "</div>\n",
              "      <button class=\"colab-df-convert\" onclick=\"convertToInteractive('df-3615bc20-ac75-46e5-9f02-8c44dadbbc9c')\"\n",
              "              title=\"Convert this dataframe to an interactive table.\"\n",
              "              style=\"display:none;\">\n",
              "\n",
              "  <svg xmlns=\"http://www.w3.org/2000/svg\" height=\"24px\"viewBox=\"0 0 24 24\"\n",
              "       width=\"24px\">\n",
              "    <path d=\"M0 0h24v24H0V0z\" fill=\"none\"/>\n",
              "    <path d=\"M18.56 5.44l.94 2.06.94-2.06 2.06-.94-2.06-.94-.94-2.06-.94 2.06-2.06.94zm-11 1L8.5 8.5l.94-2.06 2.06-.94-2.06-.94L8.5 2.5l-.94 2.06-2.06.94zm10 10l.94 2.06.94-2.06 2.06-.94-2.06-.94-.94-2.06-.94 2.06-2.06.94z\"/><path d=\"M17.41 7.96l-1.37-1.37c-.4-.4-.92-.59-1.43-.59-.52 0-1.04.2-1.43.59L10.3 9.45l-7.72 7.72c-.78.78-.78 2.05 0 2.83L4 21.41c.39.39.9.59 1.41.59.51 0 1.02-.2 1.41-.59l7.78-7.78 2.81-2.81c.8-.78.8-2.07 0-2.86zM5.41 20L4 18.59l7.72-7.72 1.47 1.35L5.41 20z\"/>\n",
              "  </svg>\n",
              "      </button>\n",
              "\n",
              "\n",
              "\n",
              "    <div id=\"df-46657c44-381a-40bc-8e9b-da7cbda062fa\">\n",
              "      <button class=\"colab-df-quickchart\" onclick=\"quickchart('df-46657c44-381a-40bc-8e9b-da7cbda062fa')\"\n",
              "              title=\"Suggest charts.\"\n",
              "              style=\"display:none;\">\n",
              "\n",
              "<svg xmlns=\"http://www.w3.org/2000/svg\" height=\"24px\"viewBox=\"0 0 24 24\"\n",
              "     width=\"24px\">\n",
              "    <g>\n",
              "        <path d=\"M19 3H5c-1.1 0-2 .9-2 2v14c0 1.1.9 2 2 2h14c1.1 0 2-.9 2-2V5c0-1.1-.9-2-2-2zM9 17H7v-7h2v7zm4 0h-2V7h2v10zm4 0h-2v-4h2v4z\"/>\n",
              "    </g>\n",
              "</svg>\n",
              "      </button>\n",
              "    </div>\n",
              "\n",
              "<style>\n",
              "  .colab-df-quickchart {\n",
              "    background-color: #E8F0FE;\n",
              "    border: none;\n",
              "    border-radius: 50%;\n",
              "    cursor: pointer;\n",
              "    display: none;\n",
              "    fill: #1967D2;\n",
              "    height: 32px;\n",
              "    padding: 0 0 0 0;\n",
              "    width: 32px;\n",
              "  }\n",
              "\n",
              "  .colab-df-quickchart:hover {\n",
              "    background-color: #E2EBFA;\n",
              "    box-shadow: 0px 1px 2px rgba(60, 64, 67, 0.3), 0px 1px 3px 1px rgba(60, 64, 67, 0.15);\n",
              "    fill: #174EA6;\n",
              "  }\n",
              "\n",
              "  [theme=dark] .colab-df-quickchart {\n",
              "    background-color: #3B4455;\n",
              "    fill: #D2E3FC;\n",
              "  }\n",
              "\n",
              "  [theme=dark] .colab-df-quickchart:hover {\n",
              "    background-color: #434B5C;\n",
              "    box-shadow: 0px 1px 3px 1px rgba(0, 0, 0, 0.15);\n",
              "    filter: drop-shadow(0px 1px 2px rgba(0, 0, 0, 0.3));\n",
              "    fill: #FFFFFF;\n",
              "  }\n",
              "</style>\n",
              "\n",
              "    <script>\n",
              "      async function quickchart(key) {\n",
              "        const containerElement = document.querySelector('#' + key);\n",
              "        const charts = await google.colab.kernel.invokeFunction(\n",
              "            'suggestCharts', [key], {});\n",
              "      }\n",
              "    </script>\n",
              "\n",
              "      <script>\n",
              "\n",
              "function displayQuickchartButton(domScope) {\n",
              "  let quickchartButtonEl =\n",
              "    domScope.querySelector('#df-46657c44-381a-40bc-8e9b-da7cbda062fa button.colab-df-quickchart');\n",
              "  quickchartButtonEl.style.display =\n",
              "    google.colab.kernel.accessAllowed ? 'block' : 'none';\n",
              "}\n",
              "\n",
              "        displayQuickchartButton(document);\n",
              "      </script>\n",
              "      <style>\n",
              "    .colab-df-container {\n",
              "      display:flex;\n",
              "      flex-wrap:wrap;\n",
              "      gap: 12px;\n",
              "    }\n",
              "\n",
              "    .colab-df-convert {\n",
              "      background-color: #E8F0FE;\n",
              "      border: none;\n",
              "      border-radius: 50%;\n",
              "      cursor: pointer;\n",
              "      display: none;\n",
              "      fill: #1967D2;\n",
              "      height: 32px;\n",
              "      padding: 0 0 0 0;\n",
              "      width: 32px;\n",
              "    }\n",
              "\n",
              "    .colab-df-convert:hover {\n",
              "      background-color: #E2EBFA;\n",
              "      box-shadow: 0px 1px 2px rgba(60, 64, 67, 0.3), 0px 1px 3px 1px rgba(60, 64, 67, 0.15);\n",
              "      fill: #174EA6;\n",
              "    }\n",
              "\n",
              "    [theme=dark] .colab-df-convert {\n",
              "      background-color: #3B4455;\n",
              "      fill: #D2E3FC;\n",
              "    }\n",
              "\n",
              "    [theme=dark] .colab-df-convert:hover {\n",
              "      background-color: #434B5C;\n",
              "      box-shadow: 0px 1px 3px 1px rgba(0, 0, 0, 0.15);\n",
              "      filter: drop-shadow(0px 1px 2px rgba(0, 0, 0, 0.3));\n",
              "      fill: #FFFFFF;\n",
              "    }\n",
              "  </style>\n",
              "\n",
              "      <script>\n",
              "        const buttonEl =\n",
              "          document.querySelector('#df-3615bc20-ac75-46e5-9f02-8c44dadbbc9c button.colab-df-convert');\n",
              "        buttonEl.style.display =\n",
              "          google.colab.kernel.accessAllowed ? 'block' : 'none';\n",
              "\n",
              "        async function convertToInteractive(key) {\n",
              "          const element = document.querySelector('#df-3615bc20-ac75-46e5-9f02-8c44dadbbc9c');\n",
              "          const dataTable =\n",
              "            await google.colab.kernel.invokeFunction('convertToInteractive',\n",
              "                                                     [key], {});\n",
              "          if (!dataTable) return;\n",
              "\n",
              "          const docLinkHtml = 'Like what you see? Visit the ' +\n",
              "            '<a target=\"_blank\" href=https://colab.research.google.com/notebooks/data_table.ipynb>data table notebook</a>'\n",
              "            + ' to learn more about interactive tables.';\n",
              "          element.innerHTML = '';\n",
              "          dataTable['output_type'] = 'display_data';\n",
              "          await google.colab.output.renderOutput(dataTable, element);\n",
              "          const docLink = document.createElement('div');\n",
              "          docLink.innerHTML = docLinkHtml;\n",
              "          element.appendChild(docLink);\n",
              "        }\n",
              "      </script>\n",
              "    </div>\n",
              "  </div>\n"
            ]
          },
          "metadata": {},
          "execution_count": 177
        }
      ]
    },
    {
      "cell_type": "markdown",
      "source": [
        "Bien qu'il y ai moins d'overfitting, le passage par la data augmentation n'a pas permi de régler le problème.\n",
        "\n",
        "De plus, cela n'a pas permi d'améliorer nos performances.\n",
        "\n",
        "On garde les couches de data augmentation et on essaie d'optimiser le modèle."
      ],
      "metadata": {
        "id": "pZZ3rsPbQlsi"
      }
    },
    {
      "cell_type": "markdown",
      "source": [
        "# VGG16 optimisé"
      ],
      "metadata": {
        "id": "zymPkbDspwTk"
      }
    },
    {
      "cell_type": "markdown",
      "source": [
        "Recherche du meilleur learning_rate pour l'optimizer Adam :"
      ],
      "metadata": {
        "id": "-zfSRa53ROuP"
      }
    },
    {
      "cell_type": "code",
      "source": [
        "%pip install keras-tuner\n",
        "import keras_tuner as kt"
      ],
      "metadata": {
        "id": "wNQ_SyyTRRxP"
      },
      "execution_count": null,
      "outputs": []
    },
    {
      "cell_type": "code",
      "source": [
        "def create_vgg16_kt(hp) :\n",
        "    # Même modèle de base\n",
        "    model0 = vgg16.VGG16(include_top=False, weights=\"imagenet\", input_shape=(224, 224, 3))\n",
        "    for layer in model0.layers:\n",
        "      layer.trainable=False\n",
        "    # Layers de data augmentation :\n",
        "    data_augmentation = tf.keras.Sequential([RandomFlip(input_shape=(224, 224, 3)),\n",
        "                                             RandomRotation((-0.1, 0.1)),\n",
        "                                             RandomZoom((-0.1, 0.1))])\n",
        "    # Compléter le modèle\n",
        "    model = tf.keras.Sequential([data_augmentation,\n",
        "                                 model0,\n",
        "                                 GlobalAveragePooling2D(),\n",
        "                                 Dense(378, activation='relu'),\n",
        "                                 Dropout(0.5),\n",
        "                                 Dense(data.label.nunique(), activation='softmax')])\n",
        "    # Tuning des hyperparamètres de compile()\n",
        "    learning_rates = hp.Choice('learning_rate', values=[0.1, 1e-2, 1e-3, 1e-4, 1e-5])\n",
        "\n",
        "    model.compile(loss='categorical_crossentropy', optimizer=tf.keras.optimizers.Adam(learning_rate=learning_rates), metrics=[\"accuracy\"])\n",
        "    return model"
      ],
      "metadata": {
        "id": "oUIqScM5Vd-C"
      },
      "execution_count": null,
      "outputs": []
    },
    {
      "cell_type": "code",
      "source": [
        "tuner = kt.Hyperband(create_vgg16_kt, objective='accuracy', directory='dir1')\n",
        "\n",
        "callback = tf.keras.callbacks.EarlyStopping(monitor=\"loss\", mode='min', patience=5, restore_best_weights=True)\n",
        "\n",
        "with tf.device('/gpu:0'):\n",
        "  tuner.search(Xtr, ytr, callbacks=[callback])"
      ],
      "metadata": {
        "id": "eZSX0Uofq7fr"
      },
      "execution_count": null,
      "outputs": []
    },
    {
      "cell_type": "markdown",
      "source": [
        "ATTENTION\n",
        "\n",
        "Bug keras : impossible d'avoir monitor='accuracy' + mode='min' dans le callback pour minimiser l'overfitting.\n",
        "\n",
        "  -> EarlyStopping : si, sur au moins 5 epochs de suite, la fonction de perte ne diminue pas l'exécution sera stoppée."
      ],
      "metadata": {
        "id": "oo4RC0aEReXW"
      }
    },
    {
      "cell_type": "code",
      "source": [
        "best_hps=tuner.get_best_hyperparameters()[0]\n",
        "print(f\"Best learning rate : {best_hps.get('learning_rate')}\")\n",
        "\n",
        "# Modèle avec hyperparamètres + epochs optimisés\n",
        "hypermodel = tuner.get_best_models()[0]\n",
        "with tf.device('/gpu:0'):\n",
        "  history = hypermodel.fit(Xtr, ytr, epochs=20, callbacks=[callback],\n",
        "                           verbose=0, validation_data=(Xval, yval))"
      ],
      "metadata": {
        "id": "4FpW8VHvnObD",
        "colab": {
          "base_uri": "https://localhost:8080/"
        },
        "outputId": "e17bd684-cfb8-49bd-aba6-bff34a5997d6"
      },
      "execution_count": null,
      "outputs": [
        {
          "output_type": "stream",
          "name": "stdout",
          "text": [
            "Best learning rate : 0.001\n"
          ]
        }
      ]
    },
    {
      "cell_type": "code",
      "source": [
        "fig, axs = plt.subplots(1, 2, figsize=(12, 4))\n",
        "\n",
        "sns.lineplot(history.history['loss'], label='Training loss', ax=axs[0])\n",
        "sns.lineplot(history.history['val_loss'], label='Validation loss', ax=axs[0])\n",
        "\n",
        "sns.lineplot(history.history['accuracy'], label='accuracy', ax=axs[1])\n",
        "sns.lineplot(history.history['val_accuracy'], label='Validation accuracy', ax=axs[1])\n",
        "\n",
        "plt.legend()\n",
        "plt.show()"
      ],
      "metadata": {
        "id": "SznBcRd-64aW",
        "colab": {
          "base_uri": "https://localhost:8080/",
          "height": 378
        },
        "outputId": "ffcba919-59a5-4144-8134-475e7cf53e91"
      },
      "execution_count": null,
      "outputs": [
        {
          "output_type": "display_data",
          "data": {
            "text/plain": [
              "<Figure size 1200x400 with 2 Axes>"
            ],
            "image/png": "[encoded data removed]"
          },
          "metadata": {}
        }
      ]
    },
    {
      "cell_type": "markdown",
      "source": [
        "Bien que les pertes soient plus importantes ici, l'écart entre les accuracy à l'air plus faible!"
      ],
      "metadata": {
        "id": "DkFU0KDeSi6V"
      }
    },
    {
      "cell_type": "code",
      "source": [
        "scores(hypermodel, 'Baseline tuned')"
      ],
      "metadata": {
        "id": "-qvImdu1fr1S",
        "colab": {
          "base_uri": "https://localhost:8080/",
          "height": 258
        },
        "outputId": "671ec701-6e5e-4590-a54b-de20efe39762"
      },
      "execution_count": null,
      "outputs": [
        {
          "output_type": "stream",
          "name": "stdout",
          "text": [
            "Losses (training/validation/test) : 0.11/4.5/4.94\n"
          ]
        },
        {
          "output_type": "stream",
          "name": "stderr",
          "text": [
            "/usr/local/lib/python3.10/dist-packages/sklearn/metrics/_classification.py:2184: UserWarning: y_pred contains classes not in y_true\n",
            "  warnings.warn(\"y_pred contains classes not in y_true\")\n"
          ]
        },
        {
          "output_type": "execute_result",
          "data": {
            "text/plain": [
              "                    Baseline  Baseline + data aug  Baseline tuned\n",
              "Training accuracy   1.000000             0.953846        0.964103\n",
              "Validation accuray  0.544218             0.489796        0.496599\n",
              "Testing accuracy    0.453968             0.457143        0.533333\n",
              "Balanced accuracy   0.202194             0.206221        0.250043\n",
              "Overfitting index   0.500907             0.480377        0.449137"
            ],
            "text/html": [
              "\n",
              "\n",
              "  <div id=\"df-9e1c3120-1d94-4d22-b90a-3f7a48e832b6\">\n",
              "    <div class=\"colab-df-container\">\n",
              "      <div>\n",
              "<style scoped>\n",
              "    .dataframe tbody tr th:only-of-type {\n",
              "        vertical-align: middle;\n",
              "    }\n",
              "\n",
              "    .dataframe tbody tr th {\n",
              "        vertical-align: top;\n",
              "    }\n",
              "\n",
              "    .dataframe thead th {\n",
              "        text-align: right;\n",
              "    }\n",
              "</style>\n",
              "<table border=\"1\" class=\"dataframe\">\n",
              "  <thead>\n",
              "    <tr style=\"text-align: right;\">\n",
              "      <th></th>\n",
              "      <th>Baseline</th>\n",
              "      <th>Baseline + data aug</th>\n",
              "      <th>Baseline tuned</th>\n",
              "    </tr>\n",
              "  </thead>\n",
              "  <tbody>\n",
              "    <tr>\n",
              "      <th>Training accuracy</th>\n",
              "      <td>1.000000</td>\n",
              "      <td>0.953846</td>\n",
              "      <td>0.964103</td>\n",
              "    </tr>\n",
              "    <tr>\n",
              "      <th>Validation accuray</th>\n",
              "      <td>0.544218</td>\n",
              "      <td>0.489796</td>\n",
              "      <td>0.496599</td>\n",
              "    </tr>\n",
              "    <tr>\n",
              "      <th>Testing accuracy</th>\n",
              "      <td>0.453968</td>\n",
              "      <td>0.457143</td>\n",
              "      <td>0.533333</td>\n",
              "    </tr>\n",
              "    <tr>\n",
              "      <th>Balanced accuracy</th>\n",
              "      <td>0.202194</td>\n",
              "      <td>0.206221</td>\n",
              "      <td>0.250043</td>\n",
              "    </tr>\n",
              "    <tr>\n",
              "      <th>Overfitting index</th>\n",
              "      <td>0.500907</td>\n",
              "      <td>0.480377</td>\n",
              "      <td>0.449137</td>\n",
              "    </tr>\n",
              "  </tbody>\n",
              "</table>\n",
              "</div>\n",
              "      <button class=\"colab-df-convert\" onclick=\"convertToInteractive('df-9e1c3120-1d94-4d22-b90a-3f7a48e832b6')\"\n",
              "              title=\"Convert this dataframe to an interactive table.\"\n",
              "              style=\"display:none;\">\n",
              "\n",
              "  <svg xmlns=\"http://www.w3.org/2000/svg\" height=\"24px\"viewBox=\"0 0 24 24\"\n",
              "       width=\"24px\">\n",
              "    <path d=\"M0 0h24v24H0V0z\" fill=\"none\"/>\n",
              "    <path d=\"M18.56 5.44l.94 2.06.94-2.06 2.06-.94-2.06-.94-.94-2.06-.94 2.06-2.06.94zm-11 1L8.5 8.5l.94-2.06 2.06-.94-2.06-.94L8.5 2.5l-.94 2.06-2.06.94zm10 10l.94 2.06.94-2.06 2.06-.94-2.06-.94-.94-2.06-.94 2.06-2.06.94z\"/><path d=\"M17.41 7.96l-1.37-1.37c-.4-.4-.92-.59-1.43-.59-.52 0-1.04.2-1.43.59L10.3 9.45l-7.72 7.72c-.78.78-.78 2.05 0 2.83L4 21.41c.39.39.9.59 1.41.59.51 0 1.02-.2 1.41-.59l7.78-7.78 2.81-2.81c.8-.78.8-2.07 0-2.86zM5.41 20L4 18.59l7.72-7.72 1.47 1.35L5.41 20z\"/>\n",
              "  </svg>\n",
              "      </button>\n",
              "\n",
              "\n",
              "\n",
              "    <div id=\"df-4156b128-d91e-4be8-b6f5-e8e3082c951e\">\n",
              "      <button class=\"colab-df-quickchart\" onclick=\"quickchart('df-4156b128-d91e-4be8-b6f5-e8e3082c951e')\"\n",
              "              title=\"Suggest charts.\"\n",
              "              style=\"display:none;\">\n",
              "\n",
              "<svg xmlns=\"http://www.w3.org/2000/svg\" height=\"24px\"viewBox=\"0 0 24 24\"\n",
              "     width=\"24px\">\n",
              "    <g>\n",
              "        <path d=\"M19 3H5c-1.1 0-2 .9-2 2v14c0 1.1.9 2 2 2h14c1.1 0 2-.9 2-2V5c0-1.1-.9-2-2-2zM9 17H7v-7h2v7zm4 0h-2V7h2v10zm4 0h-2v-4h2v4z\"/>\n",
              "    </g>\n",
              "</svg>\n",
              "      </button>\n",
              "    </div>\n",
              "\n",
              "<style>\n",
              "  .colab-df-quickchart {\n",
              "    background-color: #E8F0FE;\n",
              "    border: none;\n",
              "    border-radius: 50%;\n",
              "    cursor: pointer;\n",
              "    display: none;\n",
              "    fill: #1967D2;\n",
              "    height: 32px;\n",
              "    padding: 0 0 0 0;\n",
              "    width: 32px;\n",
              "  }\n",
              "\n",
              "  .colab-df-quickchart:hover {\n",
              "    background-color: #E2EBFA;\n",
              "    box-shadow: 0px 1px 2px rgba(60, 64, 67, 0.3), 0px 1px 3px 1px rgba(60, 64, 67, 0.15);\n",
              "    fill: #174EA6;\n",
              "  }\n",
              "\n",
              "  [theme=dark] .colab-df-quickchart {\n",
              "    background-color: #3B4455;\n",
              "    fill: #D2E3FC;\n",
              "  }\n",
              "\n",
              "  [theme=dark] .colab-df-quickchart:hover {\n",
              "    background-color: #434B5C;\n",
              "    box-shadow: 0px 1px 3px 1px rgba(0, 0, 0, 0.15);\n",
              "    filter: drop-shadow(0px 1px 2px rgba(0, 0, 0, 0.3));\n",
              "    fill: #FFFFFF;\n",
              "  }\n",
              "</style>\n",
              "\n",
              "    <script>\n",
              "      async function quickchart(key) {\n",
              "        const containerElement = document.querySelector('#' + key);\n",
              "        const charts = await google.colab.kernel.invokeFunction(\n",
              "            'suggestCharts', [key], {});\n",
              "      }\n",
              "    </script>\n",
              "\n",
              "      <script>\n",
              "\n",
              "function displayQuickchartButton(domScope) {\n",
              "  let quickchartButtonEl =\n",
              "    domScope.querySelector('#df-4156b128-d91e-4be8-b6f5-e8e3082c951e button.colab-df-quickchart');\n",
              "  quickchartButtonEl.style.display =\n",
              "    google.colab.kernel.accessAllowed ? 'block' : 'none';\n",
              "}\n",
              "\n",
              "        displayQuickchartButton(document);\n",
              "      </script>\n",
              "      <style>\n",
              "    .colab-df-container {\n",
              "      display:flex;\n",
              "      flex-wrap:wrap;\n",
              "      gap: 12px;\n",
              "    }\n",
              "\n",
              "    .colab-df-convert {\n",
              "      background-color: #E8F0FE;\n",
              "      border: none;\n",
              "      border-radius: 50%;\n",
              "      cursor: pointer;\n",
              "      display: none;\n",
              "      fill: #1967D2;\n",
              "      height: 32px;\n",
              "      padding: 0 0 0 0;\n",
              "      width: 32px;\n",
              "    }\n",
              "\n",
              "    .colab-df-convert:hover {\n",
              "      background-color: #E2EBFA;\n",
              "      box-shadow: 0px 1px 2px rgba(60, 64, 67, 0.3), 0px 1px 3px 1px rgba(60, 64, 67, 0.15);\n",
              "      fill: #174EA6;\n",
              "    }\n",
              "\n",
              "    [theme=dark] .colab-df-convert {\n",
              "      background-color: #3B4455;\n",
              "      fill: #D2E3FC;\n",
              "    }\n",
              "\n",
              "    [theme=dark] .colab-df-convert:hover {\n",
              "      background-color: #434B5C;\n",
              "      box-shadow: 0px 1px 3px 1px rgba(0, 0, 0, 0.15);\n",
              "      filter: drop-shadow(0px 1px 2px rgba(0, 0, 0, 0.3));\n",
              "      fill: #FFFFFF;\n",
              "    }\n",
              "  </style>\n",
              "\n",
              "      <script>\n",
              "        const buttonEl =\n",
              "          document.querySelector('#df-9e1c3120-1d94-4d22-b90a-3f7a48e832b6 button.colab-df-convert');\n",
              "        buttonEl.style.display =\n",
              "          google.colab.kernel.accessAllowed ? 'block' : 'none';\n",
              "\n",
              "        async function convertToInteractive(key) {\n",
              "          const element = document.querySelector('#df-9e1c3120-1d94-4d22-b90a-3f7a48e832b6');\n",
              "          const dataTable =\n",
              "            await google.colab.kernel.invokeFunction('convertToInteractive',\n",
              "                                                     [key], {});\n",
              "          if (!dataTable) return;\n",
              "\n",
              "          const docLinkHtml = 'Like what you see? Visit the ' +\n",
              "            '<a target=\"_blank\" href=https://colab.research.google.com/notebooks/data_table.ipynb>data table notebook</a>'\n",
              "            + ' to learn more about interactive tables.';\n",
              "          element.innerHTML = '';\n",
              "          dataTable['output_type'] = 'display_data';\n",
              "          await google.colab.output.renderOutput(dataTable, element);\n",
              "          const docLink = document.createElement('div');\n",
              "          docLink.innerHTML = docLinkHtml;\n",
              "          element.appendChild(docLink);\n",
              "        }\n",
              "      </script>\n",
              "    </div>\n",
              "  </div>\n"
            ]
          },
          "metadata": {},
          "execution_count": 183
        }
      ]
    },
    {
      "cell_type": "markdown",
      "source": [
        "L'indice d'overfitting s'améliore peu à peu grâce à l'augmentation des accuracy scores mais les résultats sont toujours peu concluants.\n",
        "\n",
        "A part via un fine tuning du modèle (qui ne sera pas abordé ici), on a sûrement tiré le meilleur de VGG16.\n",
        "\n",
        "On essaie maintenant un modèle plus complexe en gardant les méthodes d'optimisation précédntes."
      ],
      "metadata": {
        "id": "BzQhyIe1RxQB"
      }
    },
    {
      "cell_type": "markdown",
      "source": [
        "# Modèle plus complexe :  NASNetLarge"
      ],
      "metadata": {
        "id": "Sz6d7e0mSTcb"
      }
    },
    {
      "cell_type": "code",
      "source": [
        "from keras.applications import nasnet"
      ],
      "metadata": {
        "id": "zgUkmLiGRSLO"
      },
      "execution_count": null,
      "outputs": []
    },
    {
      "cell_type": "code",
      "source": [
        "es = tf.keras.callbacks.EarlyStopping(monitor='val_accuracy', mode='max', patience=5, restore_best_weights=True)"
      ],
      "metadata": {
        "id": "RA_RwRRIdvKe"
      },
      "execution_count": null,
      "outputs": []
    },
    {
      "cell_type": "markdown",
      "source": [
        "Nouveau callback : arrêt d'éxécution si, pendant au moins 5 epochs, la validation accuracy n'augmente pas."
      ],
      "metadata": {
        "id": "ByMgQv8HT8Ag"
      }
    },
    {
      "cell_type": "code",
      "source": [
        "def create_nasnet() :\n",
        "    # NASNet = modèle de base\n",
        "    model0 = nasnet.NASNetLarge(include_top=False, weights=\"imagenet\",\n",
        "                                input_shape=(224, 224, 3))\n",
        "    for layer in model0.layers:\n",
        "      layer.trainable=False\n",
        "    # Layers de data augmentation :\n",
        "    data_augmentation = tf.keras.Sequential([RandomFlip(input_shape=(224, 224, 3)),\n",
        "                                             RandomRotation((-0.1, 0.1)),\n",
        "                                             RandomZoom((-0.1, 0.1))])\n",
        "    # Compléter le modèle\n",
        "    model = tf.keras.Sequential([data_augmentation,\n",
        "                                 model0,\n",
        "                                 GlobalAveragePooling2D(),\n",
        "                                 Dense(378, activation='relu'),\n",
        "                                 Dropout(0.5),\n",
        "                                 Dense(data.label.nunique(), activation='softmax')])\n",
        "    # compilation du modèle\n",
        "    model.compile(loss='categorical_crossentropy', optimizer='adam', metrics=[\"accuracy\"])\n",
        "    return model"
      ],
      "metadata": {
        "id": "gC61LLPEWHgG"
      },
      "execution_count": null,
      "outputs": []
    },
    {
      "cell_type": "markdown",
      "source": [
        "Ré-import et prétraitement des images : utilisation de preprocess_input() du module nasnet."
      ],
      "metadata": {
        "id": "QIKZH11EUPsU"
      }
    },
    {
      "cell_type": "code",
      "source": [
        "Xtr, Xval, Xte, ytr, yval, yte = split_prep(nasnet)"
      ],
      "metadata": {
        "id": "0oTd8G8WMz0p"
      },
      "execution_count": null,
      "outputs": []
    },
    {
      "cell_type": "code",
      "source": [
        "# Modèle avec epochs optimisés\n",
        "model1 = create_nasnet()\n",
        "with tf.device('/gpu:0'):\n",
        "  history = model1.fit(Xtr, ytr, epochs=20,\n",
        "                       callbacks=[es], validation_data=(Xval, yval))"
      ],
      "metadata": {
        "id": "yF-Z8G_wX3rN",
        "colab": {
          "base_uri": "https://localhost:8080/"
        },
        "outputId": "5a3b4abc-1b95-4459-9290-d2e4be73ec00"
      },
      "execution_count": null,
      "outputs": [
        {
          "output_type": "stream",
          "name": "stdout",
          "text": [
            "Epoch 1/20\n",
            "19/19 [==============================] - 39s 937ms/step - loss: 4.6158 - accuracy: 0.1778 - val_loss: 3.7118 - val_accuracy: 0.3537\n",
            "Epoch 2/20\n",
            "19/19 [==============================] - 10s 545ms/step - loss: 3.1551 - accuracy: 0.3846 - val_loss: 3.5062 - val_accuracy: 0.3605\n",
            "Epoch 3/20\n",
            "19/19 [==============================] - 10s 546ms/step - loss: 2.4609 - accuracy: 0.4821 - val_loss: 3.5375 - val_accuracy: 0.3878\n",
            "Epoch 4/20\n",
            "19/19 [==============================] - 9s 466ms/step - loss: 2.1137 - accuracy: 0.5197 - val_loss: 3.4706 - val_accuracy: 0.3605\n",
            "Epoch 5/20\n",
            "19/19 [==============================] - 9s 468ms/step - loss: 1.7378 - accuracy: 0.6256 - val_loss: 3.5364 - val_accuracy: 0.3878\n",
            "Epoch 6/20\n",
            "19/19 [==============================] - 9s 504ms/step - loss: 1.4504 - accuracy: 0.6513 - val_loss: 3.6712 - val_accuracy: 0.3946\n",
            "Epoch 7/20\n",
            "19/19 [==============================] - 9s 503ms/step - loss: 1.2228 - accuracy: 0.6923 - val_loss: 3.6274 - val_accuracy: 0.3878\n",
            "Epoch 8/20\n",
            "19/19 [==============================] - 9s 492ms/step - loss: 1.0816 - accuracy: 0.7282 - val_loss: 3.7852 - val_accuracy: 0.4082\n",
            "Epoch 9/20\n",
            "19/19 [==============================] - 9s 495ms/step - loss: 0.9911 - accuracy: 0.7419 - val_loss: 3.7320 - val_accuracy: 0.4218\n",
            "Epoch 10/20\n",
            "19/19 [==============================] - 8s 451ms/step - loss: 0.8794 - accuracy: 0.7744 - val_loss: 3.7596 - val_accuracy: 0.3878\n",
            "Epoch 11/20\n",
            "19/19 [==============================] - 9s 461ms/step - loss: 0.7035 - accuracy: 0.8137 - val_loss: 4.0612 - val_accuracy: 0.4218\n",
            "Epoch 12/20\n",
            "19/19 [==============================] - 10s 531ms/step - loss: 0.6628 - accuracy: 0.8308 - val_loss: 3.9744 - val_accuracy: 0.4150\n",
            "Epoch 13/20\n",
            "19/19 [==============================] - 9s 504ms/step - loss: 0.5632 - accuracy: 0.8359 - val_loss: 3.9217 - val_accuracy: 0.4150\n",
            "Epoch 14/20\n",
            "19/19 [==============================] - 10s 553ms/step - loss: 0.4603 - accuracy: 0.8803 - val_loss: 3.9282 - val_accuracy: 0.4218\n"
          ]
        }
      ]
    },
    {
      "cell_type": "markdown",
      "source": [
        "Callback intervenu après 14 epochs sur 20 : la validation accuracy a cessé de s'améliorer."
      ],
      "metadata": {
        "id": "m8OW_LlDUa7q"
      }
    },
    {
      "cell_type": "code",
      "source": [
        "fig, axs = plt.subplots(1, 2, figsize=(12, 4))\n",
        "\n",
        "sns.lineplot(history.history['loss'], label='Training loss', ax=axs[0])\n",
        "sns.lineplot(history.history['val_loss'], label='Validation loss', ax=axs[0])\n",
        "\n",
        "sns.lineplot(history.history['accuracy'], label='accuracy', ax=axs[1])\n",
        "sns.lineplot(history.history['val_accuracy'], label='Validation accuracy', ax=axs[1])\n",
        "\n",
        "plt.legend()\n",
        "plt.show()"
      ],
      "metadata": {
        "colab": {
          "base_uri": "https://localhost:8080/",
          "height": 373
        },
        "id": "sfaXqXFJ_O99",
        "outputId": "530d2535-539e-4464-e266-97448def7bcf"
      },
      "execution_count": null,
      "outputs": [
        {
          "output_type": "display_data",
          "data": {
            "text/plain": [
              "<Figure size 1200x400 with 2 Axes>"
            ],
            "image/png": "[encoded data removed]"
          },
          "metadata": {}
        }
      ]
    },
    {
      "cell_type": "markdown",
      "source": [
        "Globalement on a les mêmes graphes qu'avant : pas d'amélioration nette."
      ],
      "metadata": {
        "id": "9QvbbsngU6sI"
      }
    },
    {
      "cell_type": "code",
      "source": [
        "scores(model1, 'NasNet')"
      ],
      "metadata": {
        "id": "b6-Ct_kDbE26",
        "colab": {
          "base_uri": "https://localhost:8080/",
          "height": 258
        },
        "outputId": "3dedc9de-9af5-415c-bca3-52207841ea01"
      },
      "execution_count": null,
      "outputs": [
        {
          "output_type": "stream",
          "name": "stdout",
          "text": [
            "Losses (training/validation/test) : 0.68/3.73/3.14\n"
          ]
        },
        {
          "output_type": "stream",
          "name": "stderr",
          "text": [
            "/usr/local/lib/python3.10/dist-packages/sklearn/metrics/_classification.py:2184: UserWarning: y_pred contains classes not in y_true\n",
            "  warnings.warn(\"y_pred contains classes not in y_true\")\n"
          ]
        },
        {
          "output_type": "execute_result",
          "data": {
            "text/plain": [
              "                    Baseline  Baseline + data aug  Baseline tuned    NasNet\n",
              "Training accuracy   1.000000             0.953846        0.964103  0.849573\n",
              "Validation accuray  0.544218             0.489796        0.496599  0.421769\n",
              "Testing accuracy    0.453968             0.457143        0.533333  0.460317\n",
              "Balanced accuracy   0.202194             0.206221        0.250043  0.230281\n",
              "Overfitting index   0.500907             0.480377        0.449137  0.408530"
            ],
            "text/html": [
              "\n",
              "\n",
              "  <div id=\"df-84176ec4-b850-4cf6-849d-edf583dd9da8\">\n",
              "    <div class=\"colab-df-container\">\n",
              "      <div>\n",
              "<style scoped>\n",
              "    .dataframe tbody tr th:only-of-type {\n",
              "        vertical-align: middle;\n",
              "    }\n",
              "\n",
              "    .dataframe tbody tr th {\n",
              "        vertical-align: top;\n",
              "    }\n",
              "\n",
              "    .dataframe thead th {\n",
              "        text-align: right;\n",
              "    }\n",
              "</style>\n",
              "<table border=\"1\" class=\"dataframe\">\n",
              "  <thead>\n",
              "    <tr style=\"text-align: right;\">\n",
              "      <th></th>\n",
              "      <th>Baseline</th>\n",
              "      <th>Baseline + data aug</th>\n",
              "      <th>Baseline tuned</th>\n",
              "      <th>NasNet</th>\n",
              "    </tr>\n",
              "  </thead>\n",
              "  <tbody>\n",
              "    <tr>\n",
              "      <th>Training accuracy</th>\n",
              "      <td>1.000000</td>\n",
              "      <td>0.953846</td>\n",
              "      <td>0.964103</td>\n",
              "      <td>0.849573</td>\n",
              "    </tr>\n",
              "    <tr>\n",
              "      <th>Validation accuray</th>\n",
              "      <td>0.544218</td>\n",
              "      <td>0.489796</td>\n",
              "      <td>0.496599</td>\n",
              "      <td>0.421769</td>\n",
              "    </tr>\n",
              "    <tr>\n",
              "      <th>Testing accuracy</th>\n",
              "      <td>0.453968</td>\n",
              "      <td>0.457143</td>\n",
              "      <td>0.533333</td>\n",
              "      <td>0.460317</td>\n",
              "    </tr>\n",
              "    <tr>\n",
              "      <th>Balanced accuracy</th>\n",
              "      <td>0.202194</td>\n",
              "      <td>0.206221</td>\n",
              "      <td>0.250043</td>\n",
              "      <td>0.230281</td>\n",
              "    </tr>\n",
              "    <tr>\n",
              "      <th>Overfitting index</th>\n",
              "      <td>0.500907</td>\n",
              "      <td>0.480377</td>\n",
              "      <td>0.449137</td>\n",
              "      <td>0.408530</td>\n",
              "    </tr>\n",
              "  </tbody>\n",
              "</table>\n",
              "</div>\n",
              "      <button class=\"colab-df-convert\" onclick=\"convertToInteractive('df-84176ec4-b850-4cf6-849d-edf583dd9da8')\"\n",
              "              title=\"Convert this dataframe to an interactive table.\"\n",
              "              style=\"display:none;\">\n",
              "\n",
              "  <svg xmlns=\"http://www.w3.org/2000/svg\" height=\"24px\"viewBox=\"0 0 24 24\"\n",
              "       width=\"24px\">\n",
              "    <path d=\"M0 0h24v24H0V0z\" fill=\"none\"/>\n",
              "    <path d=\"M18.56 5.44l.94 2.06.94-2.06 2.06-.94-2.06-.94-.94-2.06-.94 2.06-2.06.94zm-11 1L8.5 8.5l.94-2.06 2.06-.94-2.06-.94L8.5 2.5l-.94 2.06-2.06.94zm10 10l.94 2.06.94-2.06 2.06-.94-2.06-.94-.94-2.06-.94 2.06-2.06.94z\"/><path d=\"M17.41 7.96l-1.37-1.37c-.4-.4-.92-.59-1.43-.59-.52 0-1.04.2-1.43.59L10.3 9.45l-7.72 7.72c-.78.78-.78 2.05 0 2.83L4 21.41c.39.39.9.59 1.41.59.51 0 1.02-.2 1.41-.59l7.78-7.78 2.81-2.81c.8-.78.8-2.07 0-2.86zM5.41 20L4 18.59l7.72-7.72 1.47 1.35L5.41 20z\"/>\n",
              "  </svg>\n",
              "      </button>\n",
              "\n",
              "\n",
              "\n",
              "    <div id=\"df-8ab4313c-d49f-4885-aa2f-f262623f8e71\">\n",
              "      <button class=\"colab-df-quickchart\" onclick=\"quickchart('df-8ab4313c-d49f-4885-aa2f-f262623f8e71')\"\n",
              "              title=\"Suggest charts.\"\n",
              "              style=\"display:none;\">\n",
              "\n",
              "<svg xmlns=\"http://www.w3.org/2000/svg\" height=\"24px\"viewBox=\"0 0 24 24\"\n",
              "     width=\"24px\">\n",
              "    <g>\n",
              "        <path d=\"M19 3H5c-1.1 0-2 .9-2 2v14c0 1.1.9 2 2 2h14c1.1 0 2-.9 2-2V5c0-1.1-.9-2-2-2zM9 17H7v-7h2v7zm4 0h-2V7h2v10zm4 0h-2v-4h2v4z\"/>\n",
              "    </g>\n",
              "</svg>\n",
              "      </button>\n",
              "    </div>\n",
              "\n",
              "<style>\n",
              "  .colab-df-quickchart {\n",
              "    background-color: #E8F0FE;\n",
              "    border: none;\n",
              "    border-radius: 50%;\n",
              "    cursor: pointer;\n",
              "    display: none;\n",
              "    fill: #1967D2;\n",
              "    height: 32px;\n",
              "    padding: 0 0 0 0;\n",
              "    width: 32px;\n",
              "  }\n",
              "\n",
              "  .colab-df-quickchart:hover {\n",
              "    background-color: #E2EBFA;\n",
              "    box-shadow: 0px 1px 2px rgba(60, 64, 67, 0.3), 0px 1px 3px 1px rgba(60, 64, 67, 0.15);\n",
              "    fill: #174EA6;\n",
              "  }\n",
              "\n",
              "  [theme=dark] .colab-df-quickchart {\n",
              "    background-color: #3B4455;\n",
              "    fill: #D2E3FC;\n",
              "  }\n",
              "\n",
              "  [theme=dark] .colab-df-quickchart:hover {\n",
              "    background-color: #434B5C;\n",
              "    box-shadow: 0px 1px 3px 1px rgba(0, 0, 0, 0.15);\n",
              "    filter: drop-shadow(0px 1px 2px rgba(0, 0, 0, 0.3));\n",
              "    fill: #FFFFFF;\n",
              "  }\n",
              "</style>\n",
              "\n",
              "    <script>\n",
              "      async function quickchart(key) {\n",
              "        const containerElement = document.querySelector('#' + key);\n",
              "        const charts = await google.colab.kernel.invokeFunction(\n",
              "            'suggestCharts', [key], {});\n",
              "      }\n",
              "    </script>\n",
              "\n",
              "      <script>\n",
              "\n",
              "function displayQuickchartButton(domScope) {\n",
              "  let quickchartButtonEl =\n",
              "    domScope.querySelector('#df-8ab4313c-d49f-4885-aa2f-f262623f8e71 button.colab-df-quickchart');\n",
              "  quickchartButtonEl.style.display =\n",
              "    google.colab.kernel.accessAllowed ? 'block' : 'none';\n",
              "}\n",
              "\n",
              "        displayQuickchartButton(document);\n",
              "      </script>\n",
              "      <style>\n",
              "    .colab-df-container {\n",
              "      display:flex;\n",
              "      flex-wrap:wrap;\n",
              "      gap: 12px;\n",
              "    }\n",
              "\n",
              "    .colab-df-convert {\n",
              "      background-color: #E8F0FE;\n",
              "      border: none;\n",
              "      border-radius: 50%;\n",
              "      cursor: pointer;\n",
              "      display: none;\n",
              "      fill: #1967D2;\n",
              "      height: 32px;\n",
              "      padding: 0 0 0 0;\n",
              "      width: 32px;\n",
              "    }\n",
              "\n",
              "    .colab-df-convert:hover {\n",
              "      background-color: #E2EBFA;\n",
              "      box-shadow: 0px 1px 2px rgba(60, 64, 67, 0.3), 0px 1px 3px 1px rgba(60, 64, 67, 0.15);\n",
              "      fill: #174EA6;\n",
              "    }\n",
              "\n",
              "    [theme=dark] .colab-df-convert {\n",
              "      background-color: #3B4455;\n",
              "      fill: #D2E3FC;\n",
              "    }\n",
              "\n",
              "    [theme=dark] .colab-df-convert:hover {\n",
              "      background-color: #434B5C;\n",
              "      box-shadow: 0px 1px 3px 1px rgba(0, 0, 0, 0.15);\n",
              "      filter: drop-shadow(0px 1px 2px rgba(0, 0, 0, 0.3));\n",
              "      fill: #FFFFFF;\n",
              "    }\n",
              "  </style>\n",
              "\n",
              "      <script>\n",
              "        const buttonEl =\n",
              "          document.querySelector('#df-84176ec4-b850-4cf6-849d-edf583dd9da8 button.colab-df-convert');\n",
              "        buttonEl.style.display =\n",
              "          google.colab.kernel.accessAllowed ? 'block' : 'none';\n",
              "\n",
              "        async function convertToInteractive(key) {\n",
              "          const element = document.querySelector('#df-84176ec4-b850-4cf6-849d-edf583dd9da8');\n",
              "          const dataTable =\n",
              "            await google.colab.kernel.invokeFunction('convertToInteractive',\n",
              "                                                     [key], {});\n",
              "          if (!dataTable) return;\n",
              "\n",
              "          const docLinkHtml = 'Like what you see? Visit the ' +\n",
              "            '<a target=\"_blank\" href=https://colab.research.google.com/notebooks/data_table.ipynb>data table notebook</a>'\n",
              "            + ' to learn more about interactive tables.';\n",
              "          element.innerHTML = '';\n",
              "          dataTable['output_type'] = 'display_data';\n",
              "          await google.colab.output.renderOutput(dataTable, element);\n",
              "          const docLink = document.createElement('div');\n",
              "          docLink.innerHTML = docLinkHtml;\n",
              "          element.appendChild(docLink);\n",
              "        }\n",
              "      </script>\n",
              "    </div>\n",
              "  </div>\n"
            ]
          },
          "metadata": {},
          "execution_count": 190
        }
      ]
    },
    {
      "cell_type": "markdown",
      "source": [
        "+ Moins de la moitié des données non vues pendant l'entraînement sont bien classées\n",
        "+ Il y a un peu moins d'overfitting : index minimum.\n",
        "+ Il y a moins de produits appartenant à une catégorie peu représentée qui ont été bien classés (balanced_accuracy_score = 0.2 < 0.25)\n",
        "\n",
        "Les résultats sont toujours moyens et il est difficile de choisir le meilleur modèle : certains points se sont améliorés et d'autres empirés."
      ],
      "metadata": {
        "id": "VhvHKzfihTrr"
      }
    },
    {
      "cell_type": "markdown",
      "source": [
        "# Combinaison de Deep Learning et Machine Leaarning"
      ],
      "metadata": {
        "id": "-zXvOwLx-HDE"
      }
    },
    {
      "cell_type": "markdown",
      "source": [
        "Deep Learning : utilisé pour le feature extraction.\n",
        "\n",
        "Machine Learning : utilisé pour la classification."
      ],
      "metadata": {
        "id": "pp1b0jUlV8zM"
      }
    },
    {
      "cell_type": "code",
      "source": [
        "model = vgg16.VGG16()\n",
        "\n",
        "model = Model(inputs=model.inputs, outputs=model.layers[-2].output)"
      ],
      "metadata": {
        "id": "JqlqsI2i0v69"
      },
      "execution_count": null,
      "outputs": []
    },
    {
      "cell_type": "code",
      "source": [
        "'''\n",
        "tmp = data['label'].value_counts()\n",
        "labels = tmp[tmp>1].index\n",
        "# Enlever les catégories n'apparaissant qu'une fois : on garde le balanced_accuracy score car les cat restantes sont toujours non équilibrées.\n",
        "data = data.loc[data.label.isin(labels)]\n",
        "'''"
      ],
      "metadata": {
        "id": "NKLTFNrbGfW8"
      },
      "execution_count": null,
      "outputs": []
    },
    {
      "cell_type": "markdown",
      "source": [
        "Ré-import des images : ajout d'un filtre gaussien en plus du passeg par preprocesss_input() du module vgg16."
      ],
      "metadata": {
        "id": "ByOq5Au7Wigl"
      }
    },
    {
      "cell_type": "code",
      "source": [
        "features = []\n",
        "\n",
        "with tf.device('/gpu:0'):\n",
        "  for i in data['image_name'].index:\n",
        "    img = load_img('/content/drive/MyDrive/Colab Notebooks/Projet 6/Images/'+str(data['image_name'][i]),\n",
        "                   target_size=(224, 224))\n",
        "    img = img_to_array(img)\n",
        "    img = cv2.GaussianBlur(img, (5, 5), 0)\n",
        "    if i == 500 : cv2_imshow(img)\n",
        "    img = np.expand_dims(img, axis=0)\n",
        "    img = vgg16.preprocess_input(img)\n",
        "    features.append(model.predict(img, verbose=0)[0])\n",
        "\n",
        "features = np.array(features)\n",
        "features.shape"
      ],
      "metadata": {
        "colab": {
          "base_uri": "https://localhost:8080/",
          "height": 258
        },
        "id": "67VSR-9B596H",
        "outputId": "b847c555-87c1-4298-a257-8551f6e2a43b"
      },
      "execution_count": null,
      "outputs": [
        {
          "output_type": "display_data",
          "data": {
            "text/plain": [
              "<PIL.Image.Image image mode=RGB size=224x224>"
            ],
            "image/png": "[encoded data removed]"
          },
          "metadata": {}
        },
        {
          "output_type": "execute_result",
          "data": {
            "text/plain": [
              "(910, 4096)"
            ]
          },
          "metadata": {},
          "execution_count": 193
        }
      ]
    },
    {
      "cell_type": "code",
      "source": [
        "X = features\n",
        "y = data['label']\n",
        "\n",
        "'''\n",
        "from sklearn.preprocessing import StandardScaler\n",
        "sc = StandardScaler()\n",
        "X_sc = sc.fit_transform(X)\n",
        "'''\n",
        "# Essais avec with_mean=False et avec with_std=False : pas d'amélioration des résultats.\n",
        "'''\n",
        "from sklearn.decomposition import PCA\n",
        "pca = PCA(n_components=0.99)\n",
        "X_pca = pca.fit_transform(X)\n",
        "'''\n",
        "# La réduction de dimensions a mené à des accuracy scores plus faibles : on reste à 4096 features\n",
        "X_train, X_test, y_train, y_test = train_test_split(X, y, shuffle=True, test_size = 0.2)\n",
        "\n",
        "print(\"Dimensions of input training data:\",X_train.shape)\n",
        "print(\"Dimensions of input testing data:\",X_test.shape)"
      ],
      "metadata": {
        "colab": {
          "base_uri": "https://localhost:8080/"
        },
        "id": "KCk6ZOSn7QEC",
        "outputId": "3f2ee2da-f5b6-4df3-9628-163611e130d4"
      },
      "execution_count": null,
      "outputs": [
        {
          "output_type": "stream",
          "name": "stdout",
          "text": [
            "Dimensions of input training data: (728, 4096)\n",
            "Dimensions of input testing data: (182, 4096)\n"
          ]
        }
      ]
    },
    {
      "cell_type": "markdown",
      "source": [
        "Un essai de normalisation (StandardScaling) à été effectué : non concluant.\n",
        "De même pour la réduction de dimensions.\n",
        "\n",
        "Toujours dans un souci de minimisation de l'overfitting, le train_size a été augmenté : de 0.7 à 0.8"
      ],
      "metadata": {
        "id": "9BhEkvgVW5ga"
      }
    },
    {
      "cell_type": "code",
      "source": [
        "svc = SVC()\n",
        "\n",
        "gs = GridSearchCV(svc, cv=3, param_grid={'C': np.logspace(-6, 6, 13),\n",
        "                                         'kernel': ['rbf', 'poly', 'linear', 'sigmoid']})\n",
        "with tf.device('/gpu:0'):\n",
        "  gs.fit(X_train, y_train)\n",
        "\n",
        "gs.best_params_"
      ],
      "metadata": {
        "colab": {
          "base_uri": "https://localhost:8080/"
        },
        "id": "pAeSa9RL-PBY",
        "outputId": "bf891bf4-982d-4688-f7ae-c7d0d64f4d6e"
      },
      "execution_count": null,
      "outputs": [
        {
          "output_type": "execute_result",
          "data": {
            "text/plain": [
              "{'C': 0.001, 'kernel': 'linear'}"
            ]
          },
          "metadata": {},
          "execution_count": 195
        }
      ]
    },
    {
      "cell_type": "code",
      "source": [
        "best_svc = gs.best_estimator_.fit(X_train, y_train)\n",
        "y_pred = best_svc.predict(X_test)\n",
        "\n",
        "comp['VGG16 + SVC'] = [best_svc.score(X_train, y_train), None, best_svc.score(X_test, y_test),\n",
        "                       balanced_accuracy_score(y_test, y_pred), best_svc.score(X_train, y_train)-best_svc.score(X_test, y_test)]\n",
        "\n",
        "comp"
      ],
      "metadata": {
        "colab": {
          "base_uri": "https://localhost:8080/",
          "height": 241
        },
        "id": "mhzHYIY-eCpe",
        "outputId": "bd0811e0-1283-4d93-df50-a996bf541388"
      },
      "execution_count": null,
      "outputs": [
        {
          "output_type": "stream",
          "name": "stderr",
          "text": [
            "/usr/local/lib/python3.10/dist-packages/sklearn/metrics/_classification.py:2184: UserWarning: y_pred contains classes not in y_true\n",
            "  warnings.warn(\"y_pred contains classes not in y_true\")\n"
          ]
        },
        {
          "output_type": "execute_result",
          "data": {
            "text/plain": [
              "                    Baseline  Baseline + data aug  Baseline tuned    NasNet  \\\n",
              "Training accuracy   1.000000             0.953846        0.964103  0.849573   \n",
              "Validation accuray  0.544218             0.489796        0.496599  0.421769   \n",
              "Testing accuracy    0.453968             0.457143        0.533333  0.460317   \n",
              "Balanced accuracy   0.202194             0.206221        0.250043  0.230281   \n",
              "Overfitting index   0.500907             0.480377        0.449137  0.408530   \n",
              "\n",
              "                    VGG16 + SVC  \n",
              "Training accuracy      0.994505  \n",
              "Validation accuray          NaN  \n",
              "Testing accuracy       0.631868  \n",
              "Balanced accuracy      0.477736  \n",
              "Overfitting index      0.362637  "
            ],
            "text/html": [
              "\n",
              "\n",
              "  <div id=\"df-b202a74f-bca0-4365-95c0-ce1c1e82f173\">\n",
              "    <div class=\"colab-df-container\">\n",
              "      <div>\n",
              "<style scoped>\n",
              "    .dataframe tbody tr th:only-of-type {\n",
              "        vertical-align: middle;\n",
              "    }\n",
              "\n",
              "    .dataframe tbody tr th {\n",
              "        vertical-align: top;\n",
              "    }\n",
              "\n",
              "    .dataframe thead th {\n",
              "        text-align: right;\n",
              "    }\n",
              "</style>\n",
              "<table border=\"1\" class=\"dataframe\">\n",
              "  <thead>\n",
              "    <tr style=\"text-align: right;\">\n",
              "      <th></th>\n",
              "      <th>Baseline</th>\n",
              "      <th>Baseline + data aug</th>\n",
              "      <th>Baseline tuned</th>\n",
              "      <th>NasNet</th>\n",
              "      <th>VGG16 + SVC</th>\n",
              "    </tr>\n",
              "  </thead>\n",
              "  <tbody>\n",
              "    <tr>\n",
              "      <th>Training accuracy</th>\n",
              "      <td>1.000000</td>\n",
              "      <td>0.953846</td>\n",
              "      <td>0.964103</td>\n",
              "      <td>0.849573</td>\n",
              "      <td>0.994505</td>\n",
              "    </tr>\n",
              "    <tr>\n",
              "      <th>Validation accuray</th>\n",
              "      <td>0.544218</td>\n",
              "      <td>0.489796</td>\n",
              "      <td>0.496599</td>\n",
              "      <td>0.421769</td>\n",
              "      <td>NaN</td>\n",
              "    </tr>\n",
              "    <tr>\n",
              "      <th>Testing accuracy</th>\n",
              "      <td>0.453968</td>\n",
              "      <td>0.457143</td>\n",
              "      <td>0.533333</td>\n",
              "      <td>0.460317</td>\n",
              "      <td>0.631868</td>\n",
              "    </tr>\n",
              "    <tr>\n",
              "      <th>Balanced accuracy</th>\n",
              "      <td>0.202194</td>\n",
              "      <td>0.206221</td>\n",
              "      <td>0.250043</td>\n",
              "      <td>0.230281</td>\n",
              "      <td>0.477736</td>\n",
              "    </tr>\n",
              "    <tr>\n",
              "      <th>Overfitting index</th>\n",
              "      <td>0.500907</td>\n",
              "      <td>0.480377</td>\n",
              "      <td>0.449137</td>\n",
              "      <td>0.408530</td>\n",
              "      <td>0.362637</td>\n",
              "    </tr>\n",
              "  </tbody>\n",
              "</table>\n",
              "</div>\n",
              "      <button class=\"colab-df-convert\" onclick=\"convertToInteractive('df-b202a74f-bca0-4365-95c0-ce1c1e82f173')\"\n",
              "              title=\"Convert this dataframe to an interactive table.\"\n",
              "              style=\"display:none;\">\n",
              "\n",
              "  <svg xmlns=\"http://www.w3.org/2000/svg\" height=\"24px\"viewBox=\"0 0 24 24\"\n",
              "       width=\"24px\">\n",
              "    <path d=\"M0 0h24v24H0V0z\" fill=\"none\"/>\n",
              "    <path d=\"M18.56 5.44l.94 2.06.94-2.06 2.06-.94-2.06-.94-.94-2.06-.94 2.06-2.06.94zm-11 1L8.5 8.5l.94-2.06 2.06-.94-2.06-.94L8.5 2.5l-.94 2.06-2.06.94zm10 10l.94 2.06.94-2.06 2.06-.94-2.06-.94-.94-2.06-.94 2.06-2.06.94z\"/><path d=\"M17.41 7.96l-1.37-1.37c-.4-.4-.92-.59-1.43-.59-.52 0-1.04.2-1.43.59L10.3 9.45l-7.72 7.72c-.78.78-.78 2.05 0 2.83L4 21.41c.39.39.9.59 1.41.59.51 0 1.02-.2 1.41-.59l7.78-7.78 2.81-2.81c.8-.78.8-2.07 0-2.86zM5.41 20L4 18.59l7.72-7.72 1.47 1.35L5.41 20z\"/>\n",
              "  </svg>\n",
              "      </button>\n",
              "\n",
              "\n",
              "\n",
              "    <div id=\"df-974c9cdb-cc88-455c-8372-7ff64d1928e2\">\n",
              "      <button class=\"colab-df-quickchart\" onclick=\"quickchart('df-974c9cdb-cc88-455c-8372-7ff64d1928e2')\"\n",
              "              title=\"Suggest charts.\"\n",
              "              style=\"display:none;\">\n",
              "\n",
              "<svg xmlns=\"http://www.w3.org/2000/svg\" height=\"24px\"viewBox=\"0 0 24 24\"\n",
              "     width=\"24px\">\n",
              "    <g>\n",
              "        <path d=\"M19 3H5c-1.1 0-2 .9-2 2v14c0 1.1.9 2 2 2h14c1.1 0 2-.9 2-2V5c0-1.1-.9-2-2-2zM9 17H7v-7h2v7zm4 0h-2V7h2v10zm4 0h-2v-4h2v4z\"/>\n",
              "    </g>\n",
              "</svg>\n",
              "      </button>\n",
              "    </div>\n",
              "\n",
              "<style>\n",
              "  .colab-df-quickchart {\n",
              "    background-color: #E8F0FE;\n",
              "    border: none;\n",
              "    border-radius: 50%;\n",
              "    cursor: pointer;\n",
              "    display: none;\n",
              "    fill: #1967D2;\n",
              "    height: 32px;\n",
              "    padding: 0 0 0 0;\n",
              "    width: 32px;\n",
              "  }\n",
              "\n",
              "  .colab-df-quickchart:hover {\n",
              "    background-color: #E2EBFA;\n",
              "    box-shadow: 0px 1px 2px rgba(60, 64, 67, 0.3), 0px 1px 3px 1px rgba(60, 64, 67, 0.15);\n",
              "    fill: #174EA6;\n",
              "  }\n",
              "\n",
              "  [theme=dark] .colab-df-quickchart {\n",
              "    background-color: #3B4455;\n",
              "    fill: #D2E3FC;\n",
              "  }\n",
              "\n",
              "  [theme=dark] .colab-df-quickchart:hover {\n",
              "    background-color: #434B5C;\n",
              "    box-shadow: 0px 1px 3px 1px rgba(0, 0, 0, 0.15);\n",
              "    filter: drop-shadow(0px 1px 2px rgba(0, 0, 0, 0.3));\n",
              "    fill: #FFFFFF;\n",
              "  }\n",
              "</style>\n",
              "\n",
              "    <script>\n",
              "      async function quickchart(key) {\n",
              "        const containerElement = document.querySelector('#' + key);\n",
              "        const charts = await google.colab.kernel.invokeFunction(\n",
              "            'suggestCharts', [key], {});\n",
              "      }\n",
              "    </script>\n",
              "\n",
              "      <script>\n",
              "\n",
              "function displayQuickchartButton(domScope) {\n",
              "  let quickchartButtonEl =\n",
              "    domScope.querySelector('#df-974c9cdb-cc88-455c-8372-7ff64d1928e2 button.colab-df-quickchart');\n",
              "  quickchartButtonEl.style.display =\n",
              "    google.colab.kernel.accessAllowed ? 'block' : 'none';\n",
              "}\n",
              "\n",
              "        displayQuickchartButton(document);\n",
              "      </script>\n",
              "      <style>\n",
              "    .colab-df-container {\n",
              "      display:flex;\n",
              "      flex-wrap:wrap;\n",
              "      gap: 12px;\n",
              "    }\n",
              "\n",
              "    .colab-df-convert {\n",
              "      background-color: #E8F0FE;\n",
              "      border: none;\n",
              "      border-radius: 50%;\n",
              "      cursor: pointer;\n",
              "      display: none;\n",
              "      fill: #1967D2;\n",
              "      height: 32px;\n",
              "      padding: 0 0 0 0;\n",
              "      width: 32px;\n",
              "    }\n",
              "\n",
              "    .colab-df-convert:hover {\n",
              "      background-color: #E2EBFA;\n",
              "      box-shadow: 0px 1px 2px rgba(60, 64, 67, 0.3), 0px 1px 3px 1px rgba(60, 64, 67, 0.15);\n",
              "      fill: #174EA6;\n",
              "    }\n",
              "\n",
              "    [theme=dark] .colab-df-convert {\n",
              "      background-color: #3B4455;\n",
              "      fill: #D2E3FC;\n",
              "    }\n",
              "\n",
              "    [theme=dark] .colab-df-convert:hover {\n",
              "      background-color: #434B5C;\n",
              "      box-shadow: 0px 1px 3px 1px rgba(0, 0, 0, 0.15);\n",
              "      filter: drop-shadow(0px 1px 2px rgba(0, 0, 0, 0.3));\n",
              "      fill: #FFFFFF;\n",
              "    }\n",
              "  </style>\n",
              "\n",
              "      <script>\n",
              "        const buttonEl =\n",
              "          document.querySelector('#df-b202a74f-bca0-4365-95c0-ce1c1e82f173 button.colab-df-convert');\n",
              "        buttonEl.style.display =\n",
              "          google.colab.kernel.accessAllowed ? 'block' : 'none';\n",
              "\n",
              "        async function convertToInteractive(key) {\n",
              "          const element = document.querySelector('#df-b202a74f-bca0-4365-95c0-ce1c1e82f173');\n",
              "          const dataTable =\n",
              "            await google.colab.kernel.invokeFunction('convertToInteractive',\n",
              "                                                     [key], {});\n",
              "          if (!dataTable) return;\n",
              "\n",
              "          const docLinkHtml = 'Like what you see? Visit the ' +\n",
              "            '<a target=\"_blank\" href=https://colab.research.google.com/notebooks/data_table.ipynb>data table notebook</a>'\n",
              "            + ' to learn more about interactive tables.';\n",
              "          element.innerHTML = '';\n",
              "          dataTable['output_type'] = 'display_data';\n",
              "          await google.colab.output.renderOutput(dataTable, element);\n",
              "          const docLink = document.createElement('div');\n",
              "          docLink.innerHTML = docLinkHtml;\n",
              "          element.appendChild(docLink);\n",
              "        }\n",
              "      </script>\n",
              "    </div>\n",
              "  </div>\n"
            ]
          },
          "metadata": {},
          "execution_count": 196
        }
      ]
    },
    {
      "cell_type": "markdown",
      "source": [
        "+ Nouveau minimum pour l'index d'overfitting : différnce de 0.36 entre training et testing accuracy.\n",
        "+ Nouveaux maximums pour les accuracy scores : 63% des images non vues pendant l'entrînelent ont été correctement classées.\n",
        "+ Le balanced_accuracy_score a été pratiquement doublé ! : le modèle classe mieux les images à catégories peu représentées dans le dataset.\n"
      ],
      "metadata": {
        "id": "YPWlaYrsbiBw"
      }
    },
    {
      "cell_type": "markdown",
      "source": [
        "CONCLUSION\n",
        "\n",
        "Pour le dataset donné, la combinaison de VGG16 et SVC donne les meilleurs résultats.\n",
        "\n",
        "La classification automatique des images en catégories de produits n'est pas optimale, elle reste sûrement moins performante qu'une classification à la main par les vendeurs."
      ],
      "metadata": {
        "id": "nsk3Uc9kctd7"
      }
    },
    {
      "cell_type": "code",
      "source": [
        "result = pd.DataFrame({'original': y_test,'predicted': y_pred})\n",
        "\n",
        "perc = []\n",
        "for i in range(1, 5):\n",
        "  low_card = result['original'].value_counts()[result['original'].value_counts()==i]\n",
        "  low_card_pred = result.loc[result['original'].isin(low_card.index)]\n",
        "  count = 0\n",
        "  for j in low_card_pred.index:\n",
        "    if low_card_pred['original'][j]==low_card_pred['predicted'][j]:\n",
        "      count+=1\n",
        "  perc.append(np.round((count/low_card_pred.shape[0])*100, 2))\n",
        "\n",
        "plt.title(\"% de prédictions vraies sur les catégories de faibe cardinalité\")\n",
        "plt.xlabel((\"% de prédictions vraies\"))\n",
        "plt.ylabel(\"Catégories apparaissant i fois dans y_test\")\n",
        "sns.barplot(x=perc, y=['Card = 1', 'Card = 2', 'Card = 3', 'Card = 4'])\n",
        "plt.show()"
      ],
      "metadata": {
        "colab": {
          "base_uri": "https://localhost:8080/",
          "height": 481
        },
        "id": "qwEIH568-grO",
        "outputId": "334dfe3d-5399-4970-c500-e91422b83367"
      },
      "execution_count": null,
      "outputs": [
        {
          "output_type": "display_data",
          "data": {
            "text/plain": [
              "<Figure size 640x480 with 1 Axes>"
            ],
            "image/png": "[encoded data removed]"
          },
          "metadata": {}
        }
      ]
    },
    {
      "cell_type": "markdown",
      "source": [
        "L'utilisation d'un modèle n'est pas recommandé ici.\n",
        "\n",
        "Lorsque le nombre de produits en ligne sera plus important (nombre de produits >> 1050), et surtout lorsque chaque catégories apparait AU MOINS 5 fois, nous pourrons créer un modèle de classification suffisemment performant pour cette tâche."
      ],
      "metadata": {
        "id": "CHtyf5uieXP_"
      }
    }
  ]
}